{
 "cells": [
  {
   "cell_type": "code",
   "execution_count": 1,
   "metadata": {
    "collapsed": true,
    "pycharm": {
     "name": "#%%\n"
    }
   },
   "outputs": [],
   "source": [
    "import json\n",
    "import networkx as nx\n",
    "import plotly.graph_objects as go\n",
    "import matplotlib.pyplot as plt\n",
    "from csv import reader"
   ]
  },
  {
   "cell_type": "code",
   "execution_count": 17,
   "outputs": [
    {
     "name": "stdout",
     "output_type": "stream",
     "text": [
      "110\n"
     ]
    },
    {
     "data": {
      "text/plain": "[('1', '2', 1),\n ('2', '3', 1),\n ('3', '4', 1),\n ('4', '5', 1),\n ('5', '6', 1),\n ('7', '9', 9),\n ('8', '7', 2),\n ('9', '7', 1),\n ('9', '7', 8),\n ('9', '8', 1),\n ('9', '9', 24),\n ('9', '13', 5),\n ('9', '14', 5),\n ('9', '15', 9),\n ('9', '18', 7),\n ('9', '18', 20),\n ('9', '18', 23),\n ('9', '19', 21),\n ('9', '19', 22),\n ('9', '22', 10),\n ('9', '22', 28),\n ('9', '23', 19),\n ('9', '24', 24),\n ('9', '24', 22),\n ('9', '24', 22),\n ('9', '24', 14),\n ('9', '26', 8),\n ('9', '26', 8),\n ('9', '29', 8),\n ('9', '37', 15),\n ('9', '38', 15),\n ('9', '41', 15),\n ('9', '42', 15),\n ('10', '7', 9),\n ('10', '7', 24),\n ('11', '7', 10),\n ('12', '9', 2),\n ('13', '9', 1),\n ('13', '12', 1),\n ('14', '9', 1),\n ('14', '12', 1),\n ('17', '16', 2),\n ('18', '9', 23),\n ('18', '9', 21),\n ('18', '9', 21),\n ('18', '9', 21),\n ('18', '9', 14),\n ('18', '9', 14),\n ('18', '9', 15),\n ('18', '9', 17),\n ('18', '16', 1),\n ('18', '17', 1),\n ('18', '19', 12),\n ('18', '19', 13),\n ('18', '21', 8),\n ('18', '23', 7),\n ('18', '23', 13),\n ('18', '29', 13),\n ('18', '29', 13),\n ('18', '31', 8),\n ('18', '31', 10),\n ('18', '31', 10),\n ('18', '31', 13),\n ('18', '31', 13),\n ('19', '16', 1),\n ('19', '17', 1),\n ('19', '21', 13),\n ('19', '35', 9),\n ('20', '18', 2),\n ('23', '9', 20),\n ('23', '18', 8),\n ('23', '24', 9),\n ('23', '24', 10),\n ('23', '31', 21),\n ('24', '9', 9),\n ('24', '9', 8),\n ('24', '9', 10),\n ('24', '22', 8),\n ('24', '23', 1),\n ('24', '25', 8),\n ('24', '25', 8),\n ('26', '9', 11),\n ('29', '9', 21),\n ('29', '9', 18),\n ('29', '15', 10),\n ('29', '18', 10),\n ('29', '18', 10),\n ('29', '18', 10),\n ('29', '18', 13),\n ('29', '21', 15),\n ('29', '30', 1),\n ('29', '31', 19),\n ('31', '9', 21),\n ('31', '9', 17),\n ('31', '18', 8),\n ('31', '18', 10),\n ('31', '18', 10),\n ('31', '18', 10),\n ('31', '18', 10),\n ('31', '18', 13),\n ('31', '21', 22),\n ('31', '21', 15),\n ('31', '29', 9),\n ('31', '30', 1),\n ('32', '30', 1),\n ('32', '33', 2),\n ('33', '34', 1),\n ('35', '18', 8),\n ('35', '19', 10),\n ('36', '9', 17)]"
     },
     "execution_count": 17,
     "metadata": {},
     "output_type": "execute_result"
    }
   ],
   "source": [
    "graph = None\n",
    "with open(\"graph.json\") as json_file:\n",
    "    graph = json.load(json_file)\n",
    "\n",
    "edge_labels = list()\n",
    "i = 1\n",
    "\n",
    "for edge in graph[\"links\"]:\n",
    "    edge_labels.append((edge[\"source\"], edge[\"target\"], int(edge['action'])))\n",
    "\n",
    "print(len(edge_labels))\n",
    "edge_labels"
   ],
   "metadata": {
    "collapsed": false,
    "pycharm": {
     "name": "#%%\n"
    }
   }
  },
  {
   "cell_type": "code",
   "execution_count": null,
   "outputs": [],
   "source": [],
   "metadata": {
    "collapsed": false,
    "pycharm": {
     "name": "#%%\n"
    }
   }
  }
 ],
 "metadata": {
  "kernelspec": {
   "display_name": "Python 3",
   "language": "python",
   "name": "python3"
  },
  "language_info": {
   "codemirror_mode": {
    "name": "ipython",
    "version": 2
   },
   "file_extension": ".py",
   "mimetype": "text/x-python",
   "name": "python",
   "nbconvert_exporter": "python",
   "pygments_lexer": "ipython2",
   "version": "2.7.6"
  }
 },
 "nbformat": 4,
 "nbformat_minor": 0
}