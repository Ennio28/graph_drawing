{
 "cells": [
  {
   "cell_type": "code",
   "execution_count": 1,
   "outputs": [],
   "source": [
    "import json\n",
    "import networkx as nx\n",
    "import plotly.graph_objects as go\n",
    "import matplotlib.pyplot as plt\n",
    "from csv import reader\n",
    "import numpy as np\n",
    "import pandas as pd\n",
    "import plotly.offline as py\n",
    "import networkx as nx\n",
    "import random\n",
    "from mpl_toolkits.mplot3d import Axes3D\n"
   ],
   "metadata": {
    "collapsed": false,
    "pycharm": {
     "name": "#%%\n"
    }
   }
  },
  {
   "cell_type": "markdown",
   "source": [
    "Definisco i nodi"
   ],
   "metadata": {
    "collapsed": false,
    "pycharm": {
     "name": "#%% md\n"
    }
   }
  },
  {
   "cell_type": "code",
   "execution_count": 2,
   "outputs": [
    {
     "name": "stdout",
     "output_type": "stream",
     "text": [
      "Numero nodi da rappresentare\n",
      "43\n"
     ]
    },
    {
     "data": {
      "text/plain": "{'1': 'King Harald Fair-Hair',\n '2': 'Halfdan the Black',\n '3': 'Gudrod the Hunting King',\n '4': 'Halfdan the Mild and Meal-stingy',\n '5': 'Eystein Fart',\n '6': 'Olaf Wood-carver',\n '7': 'Hallfred',\n '8': 'Wife of Hallfred',\n '9': 'Hrafnkel',\n '10': 'Arnthrud',\n '11': 'man',\n '12': 'Oddbjorg Skjoldalfsdottir',\n '13': 'Thorir',\n '14': 'Asbjorn',\n '15': 'Frey',\n '16': 'Bjarni',\n '17': \"Bjarni's wife\",\n '18': 'Sam',\n '19': 'Eyvind',\n '20': \"Sam's wife\",\n '21': 'king of Greeks',\n '22': 'Freyfaxi',\n '23': 'Thorbjorn',\n '24': 'Einar',\n '25': 'shepherds',\n '26': 'mealtime servant',\n '27': 'milking women',\n '28': 'new shepherd',\n '29': 'Thorkel',\n '30': 'Thjostar',\n '31': 'Thorgeir',\n '32': 'Thormod',\n '33': 'Thordis',\n '34': 'Thorolf Skallagrimson',\n '35': \"Eyvind's servant boy\",\n '36': 'Servant woman',\n '37': 'Sighvat',\n '38': 'Snorri',\n '39': 'Hallstein',\n '40': 'Hrolf',\n '41': 'Thord ',\n '42': 'Halli',\n '43': 'Housekeeper'}"
     },
     "execution_count": 2,
     "metadata": {},
     "output_type": "execute_result"
    }
   ],
   "source": [
    "\n",
    "def load_nodes(path_nodes='graph_nodes.csv'):\n",
    "    lista_nodi = dict()\n",
    "    with open(path_nodes, 'r') as read_obj:\n",
    "        csv_reader = reader(read_obj)\n",
    "        header = next(csv_reader)\n",
    "        # Check file as empty\n",
    "        if header is not None:\n",
    "            # Iterate over each row after the header in the csv\n",
    "            for row in csv_reader:\n",
    "                # row variable is a list that represents a row in csv\n",
    "                lista_nodi[row[0]] = row[1]\n",
    "\n",
    "    print(\"Numero nodi da rappresentare\")\n",
    "    print(len(lista_nodi))\n",
    "    return lista_nodi\n",
    "\n",
    "lista_nodi = load_nodes()\n",
    "lista_nodi"
   ],
   "metadata": {
    "collapsed": false,
    "pycharm": {
     "name": "#%%\n"
    }
   }
  },
  {
   "cell_type": "markdown",
   "source": [
    "Carico gli archi"
   ],
   "metadata": {
    "collapsed": false,
    "pycharm": {
     "name": "#%% md\n"
    }
   }
  },
  {
   "cell_type": "code",
   "execution_count": 3,
   "outputs": [
    {
     "name": "stdout",
     "output_type": "stream",
     "text": [
      "Archi da rappresentare\n",
      "96\n"
     ]
    },
    {
     "data": {
      "text/plain": "{('1', '2', 1): 'descent',\n ('2', '3', 1): 'descent',\n ('3', '4', 1): 'descent',\n ('4', '5', 1): 'descent',\n ('5', '6', 1): 'descent',\n ('7', '9', 9): 'offer assistance',\n ('8', '7', 2): 'marriage',\n ('9', '7', 1): 'descent',\n ('9', '7', 8): 'request assistance',\n ('9', '8', 1): 'descent',\n ('9', '9', 24): 'death_neutral',\n ('9', '13', 5): 'inheritance',\n ('9', '14', 5): 'inheritance',\n ('9', '15', 9): 'offer assistance',\n ('9', '18', 7): 'placed in command',\n ('9', '18', 20): 'challenge',\n ('9', '18', 23): 'conversation_neutral',\n ('9', '19', 21): 'hostility_non-lethal',\n ('9', '19', 22): 'hostility_lethal',\n ('9', '22', 10): 'provide information',\n ('9', '22', 28): 'ownership',\n ('9', '23', 19): 'intervention',\n ('9', '24', 24): 'death_neutral',\n ('9', '24', 22): 'hostility_lethal',\n ('9', '24', 14): 'accusation',\n ('9', '26', 8): 'request assistance',\n ('9', '29', 8): 'request assistance',\n ('9', '37', 15): 'summons',\n ('9', '38', 15): 'summons',\n ('9', '41', 15): 'summons',\n ('9', '42', 15): 'summons',\n ('10', '7', 9): 'offer assistance',\n ('10', '7', 24): 'death_neutral',\n ('11', '7', 10): 'provide information',\n ('12', '9', 2): 'marriage',\n ('13', '9', 1): 'descent',\n ('13', '12', 1): 'descent',\n ('14', '9', 1): 'descent',\n ('14', '12', 1): 'descent',\n ('17', '16', 2): 'marriage',\n ('18', '9', 23): 'conversation_neutral',\n ('18', '9', 21): 'hostility_non-lethal',\n ('18', '9', 14): 'accusation',\n ('18', '9', 15): 'summons',\n ('18', '9', 17): 'insult',\n ('18', '16', 1): 'descent',\n ('18', '17', 1): 'descent',\n ('18', '19', 12): 'invitation',\n ('18', '19', 13): 'giftgiving',\n ('18', '21', 8): 'request assistance',\n ('18', '23', 7): 'placed in command',\n ('18', '23', 13): 'giftgiving',\n ('18', '29', 13): 'giftgiving',\n ('18', '31', 8): 'request assistance',\n ('18', '31', 10): 'provide information',\n ('18', '31', 13): 'giftgiving',\n ('19', '16', 1): 'descent',\n ('19', '17', 1): 'descent',\n ('19', '21', 13): 'giftgiving',\n ('19', '35', 9): 'offer assistance',\n ('20', '18', 2): 'marriage',\n ('23', '9', 20): 'challenge',\n ('23', '18', 8): 'request assistance',\n ('23', '24', 9): 'offer assistance',\n ('23', '24', 10): 'provide information',\n ('23', '31', 21): 'hostility_non-lethal',\n ('24', '9', 9): 'offer assistance',\n ('24', '9', 8): 'request assistance',\n ('24', '9', 10): 'provide information',\n ('24', '22', 8): 'request assistance',\n ('24', '23', 1): 'descent',\n ('24', '25', 8): 'request assistance',\n ('26', '9', 11): 'discover information',\n ('29', '9', 21): 'hostility_non-lethal',\n ('29', '9', 18): 'threat',\n ('29', '15', 10): 'provide information',\n ('29', '18', 10): 'provide information',\n ('29', '18', 13): 'giftgiving',\n ('29', '21', 15): 'summons',\n ('29', '30', 1): 'descent',\n ('29', '31', 19): 'intervention',\n ('31', '9', 21): 'hostility_non-lethal',\n ('31', '9', 17): 'insult',\n ('31', '18', 8): 'request assistance',\n ('31', '18', 10): 'provide information',\n ('31', '18', 13): 'giftgiving',\n ('31', '21', 22): 'hostility_lethal',\n ('31', '21', 15): 'summons',\n ('31', '29', 9): 'offer assistance',\n ('31', '30', 1): 'descent',\n ('32', '30', 1): 'descent',\n ('32', '33', 2): 'marriage',\n ('33', '34', 1): 'descent',\n ('35', '18', 8): 'request assistance',\n ('35', '19', 10): 'provide information',\n ('36', '9', 17): 'insult'}"
     },
     "execution_count": 3,
     "metadata": {},
     "output_type": "execute_result"
    }
   ],
   "source": [
    "def load_edges(path_edges=\"graph.json\"):\n",
    "    with open(path_edges) as json_file:\n",
    "        graph = json.load(json_file)\n",
    "\n",
    "    lista_archi = dict()\n",
    "    for arco in graph[\"links\"]:\n",
    "        lista_archi[(arco[\"source\"], arco[\"target\"], int(arco[\"action\"]))] = arco[\"action_description\"]\n",
    "\n",
    "    print(\"Archi da rappresentare\")\n",
    "    print(len(lista_archi))\n",
    "    return lista_archi\n",
    "\n",
    "\n",
    "lista_archi = load_edges()\n",
    "lista_archi"
   ],
   "metadata": {
    "collapsed": false,
    "pycharm": {
     "name": "#%%\n"
    }
   }
  },
  {
   "cell_type": "code",
   "execution_count": 4,
   "outputs": [
    {
     "name": "stdout",
     "output_type": "stream",
     "text": [
      "Numero di label dei nodi da rappresentare\n",
      "43\n"
     ]
    },
    {
     "data": {
      "text/plain": "{'1': 'King Harald Fair-Hair',\n '2': 'Halfdan the Black',\n '3': 'Gudrod the Hunting King',\n '4': 'Halfdan the Mild and Meal-stingy',\n '5': 'Eystein Fart',\n '6': 'Olaf Wood-carver',\n '7': 'Hallfred',\n '8': 'Wife of Hallfred',\n '9': 'Hrafnkel',\n '10': 'Arnthrud',\n '11': 'man',\n '12': 'Oddbjorg Skjoldalfsdottir',\n '13': 'Thorir',\n '14': 'Asbjorn',\n '15': 'Frey',\n '16': 'Bjarni',\n '17': \"Bjarni's wife\",\n '18': 'Sam',\n '19': 'Eyvind',\n '20': \"Sam's wife\",\n '21': 'king of Greeks',\n '22': 'Freyfaxi',\n '23': 'Thorbjorn',\n '24': 'Einar',\n '25': 'shepherds',\n '26': 'mealtime servant',\n '27': 'milking women',\n '28': 'new shepherd',\n '29': 'Thorkel',\n '30': 'Thjostar',\n '31': 'Thorgeir',\n '32': 'Thormod',\n '33': 'Thordis',\n '34': 'Thorolf Skallagrimson',\n '35': \"Eyvind's servant boy\",\n '36': 'Servant woman',\n '37': 'Sighvat',\n '38': 'Snorri',\n '39': 'Hallstein',\n '40': 'Hrolf',\n '41': 'Thord ',\n '42': 'Halli',\n '43': 'Housekeeper'}"
     },
     "execution_count": 4,
     "metadata": {},
     "output_type": "execute_result"
    }
   ],
   "source": [
    "Num_nodes = 43\n",
    "\n",
    "def load_nodes_label(path_nodes=\"graph.json\"):\n",
    "    graph = None\n",
    "    with open(path_nodes) as json_file:\n",
    "        graph = json.load(json_file)\n",
    "\n",
    "    node_labels = dict()\n",
    "    for node in graph[\"nodes\"]:\n",
    "        node_labels[(node['id'])] = node['label']\n",
    "\n",
    "    print(\"Numero di label dei nodi da rappresentare\")\n",
    "    print(len(node_labels))\n",
    "\n",
    "    return node_labels\n",
    "\n",
    "lista_label = load_nodes_label()\n",
    "\n",
    "lista_label"
   ],
   "metadata": {
    "collapsed": false,
    "pycharm": {
     "name": "#%%\n"
    }
   }
  },
  {
   "cell_type": "code",
   "execution_count": 5,
   "outputs": [
    {
     "name": "stdout",
     "output_type": "stream",
     "text": [
      "Label archi da rappresentare\n",
      "96\n",
      "96\n"
     ]
    },
    {
     "data": {
      "text/plain": "{('1', '2', 1): 'descent',\n ('2', '3', 1): 'descent',\n ('3', '4', 1): 'descent',\n ('4', '5', 1): 'descent',\n ('5', '6', 1): 'descent',\n ('7', '9', 9): 'offer assistance',\n ('8', '7', 2): 'marriage',\n ('9', '7', 1): 'descent',\n ('9', '7', 8): 'request assistance',\n ('9', '8', 1): 'descent',\n ('9', '9', 24): 'death_neutral',\n ('9', '13', 5): 'inheritance',\n ('9', '14', 5): 'inheritance',\n ('9', '15', 9): 'offer assistance',\n ('9', '18', 7): 'placed in command',\n ('9', '18', 20): 'challenge',\n ('9', '18', 23): 'conversation_neutral',\n ('9', '19', 21): 'hostility_non-lethal',\n ('9', '19', 22): 'hostility_lethal',\n ('9', '22', 10): 'provide information',\n ('9', '22', 28): 'ownership',\n ('9', '23', 19): 'intervention',\n ('9', '24', 24): 'death_neutral',\n ('9', '24', 22): 'hostility_lethal',\n ('9', '24', 14): 'accusation',\n ('9', '26', 8): 'request assistance',\n ('9', '29', 8): 'request assistance',\n ('9', '37', 15): 'summons',\n ('9', '38', 15): 'summons',\n ('9', '41', 15): 'summons',\n ('9', '42', 15): 'summons',\n ('10', '7', 9): 'offer assistance',\n ('10', '7', 24): 'death_neutral',\n ('11', '7', 10): 'provide information',\n ('12', '9', 2): 'marriage',\n ('13', '9', 1): 'descent',\n ('13', '12', 1): 'descent',\n ('14', '9', 1): 'descent',\n ('14', '12', 1): 'descent',\n ('17', '16', 2): 'marriage',\n ('18', '9', 23): 'conversation_neutral',\n ('18', '9', 21): 'hostility_non-lethal',\n ('18', '9', 14): 'accusation',\n ('18', '9', 15): 'summons',\n ('18', '9', 17): 'insult',\n ('18', '16', 1): 'descent',\n ('18', '17', 1): 'descent',\n ('18', '19', 12): 'invitation',\n ('18', '19', 13): 'giftgiving',\n ('18', '21', 8): 'request assistance',\n ('18', '23', 7): 'placed in command',\n ('18', '23', 13): 'giftgiving',\n ('18', '29', 13): 'giftgiving',\n ('18', '31', 8): 'request assistance',\n ('18', '31', 10): 'provide information',\n ('18', '31', 13): 'giftgiving',\n ('19', '16', 1): 'descent',\n ('19', '17', 1): 'descent',\n ('19', '21', 13): 'giftgiving',\n ('19', '35', 9): 'offer assistance',\n ('20', '18', 2): 'marriage',\n ('23', '9', 20): 'challenge',\n ('23', '18', 8): 'request assistance',\n ('23', '24', 9): 'offer assistance',\n ('23', '24', 10): 'provide information',\n ('23', '31', 21): 'hostility_non-lethal',\n ('24', '9', 9): 'offer assistance',\n ('24', '9', 8): 'request assistance',\n ('24', '9', 10): 'provide information',\n ('24', '22', 8): 'request assistance',\n ('24', '23', 1): 'descent',\n ('24', '25', 8): 'request assistance',\n ('26', '9', 11): 'discover information',\n ('29', '9', 21): 'hostility_non-lethal',\n ('29', '9', 18): 'threat',\n ('29', '15', 10): 'provide information',\n ('29', '18', 10): 'provide information',\n ('29', '18', 13): 'giftgiving',\n ('29', '21', 15): 'summons',\n ('29', '30', 1): 'descent',\n ('29', '31', 19): 'intervention',\n ('31', '9', 21): 'hostility_non-lethal',\n ('31', '9', 17): 'insult',\n ('31', '18', 8): 'request assistance',\n ('31', '18', 10): 'provide information',\n ('31', '18', 13): 'giftgiving',\n ('31', '21', 22): 'hostility_lethal',\n ('31', '21', 15): 'summons',\n ('31', '29', 9): 'offer assistance',\n ('31', '30', 1): 'descent',\n ('32', '30', 1): 'descent',\n ('32', '33', 2): 'marriage',\n ('33', '34', 1): 'descent',\n ('35', '18', 8): 'request assistance',\n ('35', '19', 10): 'provide information',\n ('36', '9', 17): 'insult'}"
     },
     "execution_count": 5,
     "metadata": {},
     "output_type": "execute_result"
    }
   ],
   "source": [
    "def load_edges_label(path_edges=\"graph.json\"):\n",
    "    with open(path_edges) as json_file:\n",
    "        graph = json.load(json_file)\n",
    "\n",
    "    lista_label_archi = dict()\n",
    "    for arco in graph[\"links\"]:\n",
    "        lista_label_archi[(arco[\"source\"], arco[\"target\"], int(arco[\"action\"]))] = arco[\"action_description\"]\n",
    "\n",
    "    print(\"Label archi da rappresentare\")\n",
    "    print(len(lista_archi))\n",
    "    return lista_label_archi\n",
    "\n",
    "\n",
    "lista_label_archi = load_edges_label()\n",
    "print(len(lista_label_archi))\n",
    "lista_label_archi"
   ],
   "metadata": {
    "collapsed": false,
    "pycharm": {
     "name": "#%%\n"
    }
   }
  },
  {
   "cell_type": "code",
   "execution_count": 6,
   "outputs": [
    {
     "name": "stdout",
     "output_type": "stream",
     "text": [
      "Numero nodi da rappresentare:\n",
      "43\n",
      "-----------------------------\n",
      "Numero archi da rappresentare:\n",
      "96\n",
      "Numero nodi nel grafo:\n",
      "43\n",
      "-----------------------\n",
      "Numero archi nel grafo:\n",
      "96\n"
     ]
    },
    {
     "data": {
      "text/plain": "<Figure size 432x288 with 0 Axes>"
     },
     "metadata": {},
     "output_type": "display_data"
    },
    {
     "data": {
      "text/plain": "<Figure size 720x720 with 1 Axes>",
      "image/png": "[encoded data removed]"
     },
     "metadata": {},
     "output_type": "display_data"
    },
    {
     "name": "stdout",
     "output_type": "stream",
     "text": [
      "Numero nodi nel grafo:\n",
      "43\n",
      "-----------------------\n",
      "Numero archi nel grafo:\n",
      "96\n"
     ]
    }
   ],
   "source": [
    "G = nx.MultiDiGraph()\n",
    "\n",
    "print(\"Numero nodi da rappresentare:\")\n",
    "print(len(lista_nodi))\n",
    "print(\"-----------------------------\")\n",
    "print(\"Numero archi da rappresentare:\")\n",
    "print(len(lista_archi))\n",
    "\n",
    "\n",
    "G.add_nodes_from(lista_nodi)\n",
    "\n",
    "G.add_weighted_edges_from(lista_label_archi)\n",
    "\n",
    "print(\"Numero nodi nel grafo:\")\n",
    "print(G.number_of_nodes())\n",
    "print(\"-----------------------\")\n",
    "print(\"Numero archi nel grafo:\")\n",
    "print(G.number_of_edges())\n",
    "\n",
    "spiral = nx.spiral_layout(G, resolution=2)\n",
    "spring_pos = nx.spring_layout(G, seed = 10,k = 0.3, pos = spiral)\n",
    "kamada = nx.kamada_kawai_layout(G, pos = spring_pos)\n",
    "spring_pos = nx.spring_layout(G, seed = 110, k = 2.5, pos = kamada)\n",
    "\n",
    "\n",
    "#nx.draw_networkx_nodes(G, pos = spring_pos, alpha=0.4)\n",
    "#nx.draw_networkx_edges(G, pos = spring_pos, width = 0.5, arrowsize=1050)\n",
    "#nx.draw_networkx(G, pos = pos, with_labels=True)\n",
    "#nx.draw_networkx_labels(G, pos = spring_pos, labels=lista_label, font_size=22, font_color=\"whitesmoke\")\n",
    "\n",
    "\n",
    "\n",
    "plt.tight_layout()\n",
    "plt.figure(3, figsize=(10, 10))\n",
    "nx.draw(G, pos= spring_pos, with_labels=True,font_size=20,node_color='#B3B3B3', node_size=700,alpha= 0.9,width= 0.4, labels= lista_label,arrowsize=25, font_color ='#8A360F')\n",
    "plt.show()\n",
    "print(\"Numero nodi nel grafo:\")\n",
    "print(G.number_of_nodes())\n",
    "print(\"-----------------------\")\n",
    "print(\"Numero archi nel grafo:\")\n",
    "print(G.number_of_edges())"
   ],
   "metadata": {
    "collapsed": false,
    "pycharm": {
     "name": "#%%\n"
    }
   }
  },
  {
   "cell_type": "code",
   "execution_count": 9,
   "outputs": [
    {
     "name": "stderr",
     "output_type": "stream",
     "text": [
      "C:\\Users\\ennio\\AppData\\Local\\Temp\\ipykernel_8780\\1999225379.py:11: MatplotlibDeprecationWarning:\n",
      "\n",
      "Axes3D(fig) adding itself to the figure is deprecated since 3.4. Pass the keyword argument auto_add_to_figure=False and use fig.add_axes(ax) to suppress this warning. The default value of auto_add_to_figure will change to False in mpl3.5 and True values will no longer work in 3.6.  This is consistent with other Axes classes.\n",
      "\n"
     ]
    },
    {
     "data": {
      "application/vnd.plotly.v1+json": {
       "config": {
        "plotlyServerURL": "https://plot.ly"
       },
       "data": [
        {
         "hoverinfo": "none",
         "line": {
          "color": "black",
          "width": 2
         },
         "mode": "lines",
         "type": "scatter3d",
         "x": [
          -0.27143063870377715,
          -0.25356299972617097,
          null,
          -0.25356299972617097,
          -0.27419294278532685,
          null,
          -0.27419294278532685,
          -0.3077231552443136,
          null,
          -0.3077231552443136,
          -0.3255347496992258,
          null,
          -0.3255347496992258,
          -0.4546496188432118,
          null,
          0.19606823055141895,
          0.19593611699407462,
          null,
          0.11656379040745495,
          0.19606823055141895,
          null,
          0.19593611699407462,
          0.19606823055141895,
          null,
          0.19593611699407462,
          0.19606823055141895,
          null,
          0.19593611699407462,
          0.11656379040745495,
          null,
          0.19593611699407462,
          0.19593611699407462,
          null,
          0.19593611699407462,
          0.2651772831046217,
          null,
          0.19593611699407462,
          0.20961351983263685,
          null,
          0.19593611699407462,
          -0.1114447396547277,
          null,
          0.19593611699407462,
          0.18809874248869976,
          null,
          0.19593611699407462,
          0.18809874248869976,
          null,
          0.19593611699407462,
          0.18809874248869976,
          null,
          0.19593611699407462,
          0.1390089876012823,
          null,
          0.19593611699407462,
          0.1390089876012823,
          null,
          0.19593611699407462,
          0.6579963147466729,
          null,
          0.19593611699407462,
          0.6579963147466729,
          null,
          0.19593611699407462,
          0.2941063845836271,
          null,
          0.19593611699407462,
          0.4246685776401774,
          null,
          0.19593611699407462,
          0.4246685776401774,
          null,
          0.19593611699407462,
          0.4246685776401774,
          null,
          0.19593611699407462,
          0.2271476648317617,
          null,
          0.19593611699407462,
          0.1531162152403737,
          null,
          0.19593611699407462,
          0.016460196202360836,
          null,
          0.19593611699407462,
          0.6514174953766283,
          null,
          0.19593611699407462,
          -0.8680777121785694,
          null,
          0.19593611699407462,
          0.10177840291463242,
          null,
          0.17107836218275319,
          0.19606823055141895,
          null,
          0.17107836218275319,
          0.19606823055141895,
          null,
          0.15950209029047635,
          0.19606823055141895,
          null,
          0.20581081860422704,
          0.19593611699407462,
          null,
          0.2651772831046217,
          0.19593611699407462,
          null,
          0.2651772831046217,
          0.20581081860422704,
          null,
          0.20961351983263685,
          0.19593611699407462,
          null,
          0.20961351983263685,
          0.20581081860422704,
          null,
          -0.3864705158308498,
          -0.5103075720170954,
          null,
          0.18809874248869976,
          0.19593611699407462,
          null,
          0.18809874248869976,
          0.19593611699407462,
          null,
          0.18809874248869976,
          0.19593611699407462,
          null,
          0.18809874248869976,
          0.19593611699407462,
          null,
          0.18809874248869976,
          0.19593611699407462,
          null,
          0.18809874248869976,
          -0.5103075720170954,
          null,
          0.18809874248869976,
          -0.3864705158308498,
          null,
          0.18809874248869976,
          0.1390089876012823,
          null,
          0.18809874248869976,
          0.1390089876012823,
          null,
          0.18809874248869976,
          0.3593589403377708,
          null,
          0.18809874248869976,
          0.2941063845836271,
          null,
          0.18809874248869976,
          0.2941063845836271,
          null,
          0.18809874248869976,
          0.1531162152403737,
          null,
          0.18809874248869976,
          0.2452332254645576,
          null,
          0.18809874248869976,
          0.2452332254645576,
          null,
          0.18809874248869976,
          0.2452332254645576,
          null,
          0.1390089876012823,
          -0.5103075720170954,
          null,
          0.1390089876012823,
          -0.3864705158308498,
          null,
          0.1390089876012823,
          0.3593589403377708,
          null,
          0.1390089876012823,
          0.1617135708309341,
          null,
          0.17745636629678332,
          0.18809874248869976,
          null,
          0.2941063845836271,
          0.19593611699407462,
          null,
          0.2941063845836271,
          0.18809874248869976,
          null,
          0.2941063845836271,
          0.4246685776401774,
          null,
          0.2941063845836271,
          0.4246685776401774,
          null,
          0.2941063845836271,
          0.2452332254645576,
          null,
          0.4246685776401774,
          0.19593611699407462,
          null,
          0.4246685776401774,
          0.19593611699407462,
          null,
          0.4246685776401774,
          0.19593611699407462,
          null,
          0.4246685776401774,
          0.6579963147466729,
          null,
          0.4246685776401774,
          0.2941063845836271,
          null,
          0.4246685776401774,
          0.717878378575141,
          null,
          0.2271476648317617,
          0.19593611699407462,
          null,
          0.1531162152403737,
          0.19593611699407462,
          null,
          0.1531162152403737,
          0.19593611699407462,
          null,
          0.1531162152403737,
          -0.1114447396547277,
          null,
          0.1531162152403737,
          0.18809874248869976,
          null,
          0.1531162152403737,
          0.18809874248869976,
          null,
          0.1531162152403737,
          0.3593589403377708,
          null,
          0.1531162152403737,
          -0.3048762367321239,
          null,
          0.1531162152403737,
          0.2452332254645576,
          null,
          0.2452332254645576,
          0.19593611699407462,
          null,
          0.2452332254645576,
          0.19593611699407462,
          null,
          0.2452332254645576,
          0.18809874248869976,
          null,
          0.2452332254645576,
          0.18809874248869976,
          null,
          0.2452332254645576,
          0.18809874248869976,
          null,
          0.2452332254645576,
          0.3593589403377708,
          null,
          0.2452332254645576,
          0.3593589403377708,
          null,
          0.2452332254645576,
          0.1531162152403737,
          null,
          0.2452332254645576,
          -0.3048762367321239,
          null,
          -0.5901884908229567,
          -0.3048762367321239,
          null,
          -0.5901884908229567,
          -0.7924872919315934,
          null,
          -0.7924872919315934,
          -0.9969109419648546,
          null,
          0.1617135708309341,
          0.18809874248869976,
          null,
          0.1617135708309341,
          0.1390089876012823,
          null,
          0.19432299527572036,
          0.19593611699407462,
          null
         ],
         "y": [
          -0.20078119499111816,
          -0.1514934285221892,
          null,
          -0.1514934285221892,
          -0.09110446713241842,
          null,
          -0.09110446713241842,
          -0.041258239204378884,
          null,
          -0.041258239204378884,
          0.00620931922188445,
          null,
          0.00620931922188445,
          0.055679258301143716,
          null,
          0.06202468599595302,
          0.03012647437111709,
          null,
          0.025172703799195638,
          0.06202468599595302,
          null,
          0.03012647437111709,
          0.06202468599595302,
          null,
          0.03012647437111709,
          0.06202468599595302,
          null,
          0.03012647437111709,
          0.025172703799195638,
          null,
          0.03012647437111709,
          0.03012647437111709,
          null,
          0.03012647437111709,
          -0.02425938917112615,
          null,
          0.03012647437111709,
          -0.061452110647785343,
          null,
          0.03012647437111709,
          -0.7827893457510042,
          null,
          0.03012647437111709,
          0.2455680425841487,
          null,
          0.03012647437111709,
          0.2455680425841487,
          null,
          0.03012647437111709,
          0.2455680425841487,
          null,
          0.03012647437111709,
          0.5561116801964773,
          null,
          0.03012647437111709,
          0.5561116801964773,
          null,
          0.03012647437111709,
          -0.24125304247681684,
          null,
          0.03012647437111709,
          -0.24125304247681684,
          null,
          0.03012647437111709,
          0.07708408078209023,
          null,
          0.03012647437111709,
          -0.17872381006046753,
          null,
          0.03012647437111709,
          -0.17872381006046753,
          null,
          0.03012647437111709,
          -0.17872381006046753,
          null,
          0.03012647437111709,
          0.0396583416859577,
          null,
          0.03012647437111709,
          0.06656242371855912,
          null,
          0.03012647437111709,
          -0.05543494240348114,
          null,
          0.03012647437111709,
          -0.2463176671927923,
          null,
          0.03012647437111709,
          0.29849920575534605,
          null,
          0.03012647437111709,
          0.5820103802573316,
          null,
          0.05622358384860144,
          0.06202468599595302,
          null,
          0.05622358384860144,
          0.06202468599595302,
          null,
          0.06670796927076751,
          0.06202468599595302,
          null,
          -0.009303373748941093,
          0.03012647437111709,
          null,
          -0.02425938917112615,
          0.03012647437111709,
          null,
          -0.02425938917112615,
          -0.009303373748941093,
          null,
          -0.061452110647785343,
          0.03012647437111709,
          null,
          -0.061452110647785343,
          -0.009303373748941093,
          null,
          0.496254680891948,
          0.7197814379889559,
          null,
          0.2455680425841487,
          0.03012647437111709,
          null,
          0.2455680425841487,
          0.03012647437111709,
          null,
          0.2455680425841487,
          0.03012647437111709,
          null,
          0.2455680425841487,
          0.03012647437111709,
          null,
          0.2455680425841487,
          0.03012647437111709,
          null,
          0.2455680425841487,
          0.7197814379889559,
          null,
          0.2455680425841487,
          0.496254680891948,
          null,
          0.2455680425841487,
          0.5561116801964773,
          null,
          0.2455680425841487,
          0.5561116801964773,
          null,
          0.2455680425841487,
          0.7305798001391355,
          null,
          0.2455680425841487,
          0.07708408078209023,
          null,
          0.2455680425841487,
          0.07708408078209023,
          null,
          0.2455680425841487,
          0.06656242371855912,
          null,
          0.2455680425841487,
          0.3286836144861722,
          null,
          0.2455680425841487,
          0.3286836144861722,
          null,
          0.2455680425841487,
          0.3286836144861722,
          null,
          0.5561116801964773,
          0.7197814379889559,
          null,
          0.5561116801964773,
          0.496254680891948,
          null,
          0.5561116801964773,
          0.7305798001391355,
          null,
          0.5561116801964773,
          0.40955540048106787,
          null,
          0.298382463997818,
          0.2455680425841487,
          null,
          0.07708408078209023,
          0.03012647437111709,
          null,
          0.07708408078209023,
          0.2455680425841487,
          null,
          0.07708408078209023,
          -0.17872381006046753,
          null,
          0.07708408078209023,
          -0.17872381006046753,
          null,
          0.07708408078209023,
          0.3286836144861722,
          null,
          -0.17872381006046753,
          0.03012647437111709,
          null,
          -0.17872381006046753,
          0.03012647437111709,
          null,
          -0.17872381006046753,
          0.03012647437111709,
          null,
          -0.17872381006046753,
          -0.24125304247681684,
          null,
          -0.17872381006046753,
          0.07708408078209023,
          null,
          -0.17872381006046753,
          -0.6209861090724236,
          null,
          0.0396583416859577,
          0.03012647437111709,
          null,
          0.06656242371855912,
          0.03012647437111709,
          null,
          0.06656242371855912,
          0.03012647437111709,
          null,
          0.06656242371855912,
          -0.7827893457510042,
          null,
          0.06656242371855912,
          0.2455680425841487,
          null,
          0.06656242371855912,
          0.2455680425841487,
          null,
          0.06656242371855912,
          0.7305798001391355,
          null,
          0.06656242371855912,
          -0.9664871616008937,
          null,
          0.06656242371855912,
          0.3286836144861722,
          null,
          0.3286836144861722,
          0.03012647437111709,
          null,
          0.3286836144861722,
          0.03012647437111709,
          null,
          0.3286836144861722,
          0.2455680425841487,
          null,
          0.3286836144861722,
          0.2455680425841487,
          null,
          0.3286836144861722,
          0.2455680425841487,
          null,
          0.3286836144861722,
          0.7305798001391355,
          null,
          0.3286836144861722,
          0.7305798001391355,
          null,
          0.3286836144861722,
          0.06656242371855912,
          null,
          0.3286836144861722,
          -0.9664871616008937,
          null,
          -0.4320364426574071,
          -0.9664871616008937,
          null,
          -0.4320364426574071,
          -0.054076934045755504,
          null,
          -0.054076934045755504,
          -0.06801587337892583,
          null,
          0.40955540048106787,
          0.2455680425841487,
          null,
          0.40955540048106787,
          0.5561116801964773,
          null,
          0.0033652343715627115,
          0.03012647437111709,
          null
         ],
         "z": [
          0.41448541122379506,
          0.4818343546251349,
          null,
          0.4818343546251349,
          0.5607275821467753,
          null,
          0.5607275821467753,
          0.6329535313070975,
          null,
          0.6329535313070975,
          0.6279260317657791,
          null,
          0.6279260317657791,
          0.9222698008905158,
          null,
          -0.09086320797129585,
          -0.09626673335315518,
          null,
          -0.1015264369430941,
          -0.09086320797129585,
          null,
          -0.09626673335315518,
          -0.09086320797129585,
          null,
          -0.09626673335315518,
          -0.09086320797129585,
          null,
          -0.09626673335315518,
          -0.1015264369430941,
          null,
          -0.09626673335315518,
          -0.09626673335315518,
          null,
          -0.09626673335315518,
          -0.07368002913592143,
          null,
          -0.09626673335315518,
          -0.07331737771399571,
          null,
          -0.09626673335315518,
          -0.7418738729702326,
          null,
          -0.09626673335315518,
          -0.04801694218753662,
          null,
          -0.09626673335315518,
          -0.04801694218753662,
          null,
          -0.09626673335315518,
          -0.04801694218753662,
          null,
          -0.09626673335315518,
          0.01201225594990092,
          null,
          -0.09626673335315518,
          0.01201225594990092,
          null,
          -0.09626673335315518,
          0.674396144814867,
          null,
          -0.09626673335315518,
          0.674396144814867,
          null,
          -0.09626673335315518,
          0.02056005941246285,
          null,
          -0.09626673335315518,
          0.11899486491482573,
          null,
          -0.09626673335315518,
          0.11899486491482573,
          null,
          -0.09626673335315518,
          0.11899486491482573,
          null,
          -0.09626673335315518,
          -0.09655176474782863,
          null,
          -0.09626673335315518,
          -0.18052752149496754,
          null,
          -0.09626673335315518,
          -0.8701817114824794,
          null,
          -0.09626673335315518,
          -0.5381778318349391,
          null,
          -0.09626673335315518,
          -0.5561969794430225,
          null,
          -0.09626673335315518,
          -0.6984688179674617,
          null,
          -0.0919909105022855,
          -0.09086320797129585,
          null,
          -0.0919909105022855,
          -0.09086320797129585,
          null,
          -0.11469117344082673,
          -0.09086320797129585,
          null,
          -0.036227362597074805,
          -0.09626673335315518,
          null,
          -0.07368002913592143,
          -0.09626673335315518,
          null,
          -0.07368002913592143,
          -0.036227362597074805,
          null,
          -0.07331737771399571,
          -0.09626673335315518,
          null,
          -0.07331737771399571,
          -0.036227362597074805,
          null,
          -0.31775394581064736,
          -0.4347495831335327,
          null,
          -0.04801694218753662,
          -0.09626673335315518,
          null,
          -0.04801694218753662,
          -0.09626673335315518,
          null,
          -0.04801694218753662,
          -0.09626673335315518,
          null,
          -0.04801694218753662,
          -0.09626673335315518,
          null,
          -0.04801694218753662,
          -0.09626673335315518,
          null,
          -0.04801694218753662,
          -0.4347495831335327,
          null,
          -0.04801694218753662,
          -0.31775394581064736,
          null,
          -0.04801694218753662,
          0.01201225594990092,
          null,
          -0.04801694218753662,
          0.01201225594990092,
          null,
          -0.04801694218753662,
          0.160695352193408,
          null,
          -0.04801694218753662,
          0.02056005941246285,
          null,
          -0.04801694218753662,
          0.02056005941246285,
          null,
          -0.04801694218753662,
          -0.18052752149496754,
          null,
          -0.04801694218753662,
          0.005543168012172487,
          null,
          -0.04801694218753662,
          0.005543168012172487,
          null,
          -0.04801694218753662,
          0.005543168012172487,
          null,
          0.01201225594990092,
          -0.4347495831335327,
          null,
          0.01201225594990092,
          -0.31775394581064736,
          null,
          0.01201225594990092,
          0.160695352193408,
          null,
          0.01201225594990092,
          -0.016159712784110103,
          null,
          -0.06220695661105085,
          -0.04801694218753662,
          null,
          0.02056005941246285,
          -0.09626673335315518,
          null,
          0.02056005941246285,
          -0.04801694218753662,
          null,
          0.02056005941246285,
          0.11899486491482573,
          null,
          0.02056005941246285,
          0.11899486491482573,
          null,
          0.02056005941246285,
          0.005543168012172487,
          null,
          0.11899486491482573,
          -0.09626673335315518,
          null,
          0.11899486491482573,
          -0.09626673335315518,
          null,
          0.11899486491482573,
          -0.09626673335315518,
          null,
          0.11899486491482573,
          0.674396144814867,
          null,
          0.11899486491482573,
          0.02056005941246285,
          null,
          0.11899486491482573,
          0.013822904654263652,
          null,
          -0.09655176474782863,
          -0.09626673335315518,
          null,
          -0.18052752149496754,
          -0.09626673335315518,
          null,
          -0.18052752149496754,
          -0.09626673335315518,
          null,
          -0.18052752149496754,
          -0.7418738729702326,
          null,
          -0.18052752149496754,
          -0.04801694218753662,
          null,
          -0.18052752149496754,
          -0.04801694218753662,
          null,
          -0.18052752149496754,
          0.160695352193408,
          null,
          -0.18052752149496754,
          -0.3851838172343046,
          null,
          -0.18052752149496754,
          0.005543168012172487,
          null,
          0.005543168012172487,
          -0.09626673335315518,
          null,
          0.005543168012172487,
          -0.09626673335315518,
          null,
          0.005543168012172487,
          -0.04801694218753662,
          null,
          0.005543168012172487,
          -0.04801694218753662,
          null,
          0.005543168012172487,
          -0.04801694218753662,
          null,
          0.005543168012172487,
          0.160695352193408,
          null,
          0.005543168012172487,
          0.160695352193408,
          null,
          0.005543168012172487,
          -0.18052752149496754,
          null,
          0.005543168012172487,
          -0.3851838172343046,
          null,
          -0.07372087123357862,
          -0.3851838172343046,
          null,
          -0.07372087123357862,
          0.1469436681683334,
          null,
          0.1469436681683334,
          0.17022751010790382,
          null,
          -0.016159712784110103,
          -0.04801694218753662,
          null,
          -0.016159712784110103,
          0.01201225594990092,
          null,
          -0.10300269108332968,
          -0.09626673335315518,
          null
         ]
        },
        {
         "hoverinfo": "text",
         "marker": {
          "colorscale": [
           [
            0.0,
            "lightgreen"
           ],
           [
            1.0,
            "magenta"
           ]
          ],
          "line": {
           "color": "black",
           "width": 0.5
          },
          "size": 10,
          "symbol": "circle"
         },
         "mode": "markers",
         "type": "scatter3d",
         "x": [
          0.19432299527572036,
          0.19593611699407462
         ],
         "y": [
          0.0033652343715627115,
          0.03012647437111709
         ],
         "z": [
          -0.10300269108332968,
          -0.09626673335315518
         ]
        }
       ],
       "layout": {
        "height": 625,
        "hovermode": "closest",
        "margin": {
         "t": 100
        },
        "scene": {
         "xaxis": {
          "showbackground": false,
          "showgrid": false,
          "showline": false,
          "showticklabels": false,
          "title": {
           "text": ""
          },
          "zeroline": false
         },
         "yaxis": {
          "showbackground": false,
          "showgrid": false,
          "showline": false,
          "showticklabels": false,
          "title": {
           "text": ""
          },
          "zeroline": false
         },
         "zaxis": {
          "showbackground": false,
          "showgrid": false,
          "showline": false,
          "showticklabels": false,
          "title": {
           "text": ""
          },
          "zeroline": false
         }
        },
        "showlegend": false,
        "template": {
         "data": {
          "bar": [
           {
            "error_x": {
             "color": "#f2f5fa"
            },
            "error_y": {
             "color": "#f2f5fa"
            },
            "marker": {
             "line": {
              "color": "rgb(17,17,17)",
              "width": 0.5
             }
            },
            "type": "bar"
           }
          ],
          "barpolar": [
           {
            "marker": {
             "line": {
              "color": "rgb(17,17,17)",
              "width": 0.5
             }
            },
            "type": "barpolar"
           }
          ],
          "carpet": [
           {
            "aaxis": {
             "endlinecolor": "#A2B1C6",
             "gridcolor": "#506784",
             "linecolor": "#506784",
             "minorgridcolor": "#506784",
             "startlinecolor": "#A2B1C6"
            },
            "baxis": {
             "endlinecolor": "#A2B1C6",
             "gridcolor": "#506784",
             "linecolor": "#506784",
             "minorgridcolor": "#506784",
             "startlinecolor": "#A2B1C6"
            },
            "type": "carpet"
           }
          ],
          "choropleth": [
           {
            "colorbar": {
             "outlinewidth": 0,
             "ticks": ""
            },
            "type": "choropleth"
           }
          ],
          "contour": [
           {
            "colorbar": {
             "outlinewidth": 0,
             "ticks": ""
            },
            "colorscale": [
             [
              0.0,
              "#0d0887"
             ],
             [
              0.1111111111111111,
              "#46039f"
             ],
             [
              0.2222222222222222,
              "#7201a8"
             ],
             [
              0.3333333333333333,
              "#9c179e"
             ],
             [
              0.4444444444444444,
              "#bd3786"
             ],
             [
              0.5555555555555556,
              "#d8576b"
             ],
             [
              0.6666666666666666,
              "#ed7953"
             ],
             [
              0.7777777777777778,
              "#fb9f3a"
             ],
             [
              0.8888888888888888,
              "#fdca26"
             ],
             [
              1.0,
              "#f0f921"
             ]
            ],
            "type": "contour"
           }
          ],
          "contourcarpet": [
           {
            "colorbar": {
             "outlinewidth": 0,
             "ticks": ""
            },
            "type": "contourcarpet"
           }
          ],
          "heatmap": [
           {
            "colorbar": {
             "outlinewidth": 0,
             "ticks": ""
            },
            "colorscale": [
             [
              0.0,
              "#0d0887"
             ],
             [
              0.1111111111111111,
              "#46039f"
             ],
             [
              0.2222222222222222,
              "#7201a8"
             ],
             [
              0.3333333333333333,
              "#9c179e"
             ],
             [
              0.4444444444444444,
              "#bd3786"
             ],
             [
              0.5555555555555556,
              "#d8576b"
             ],
             [
              0.6666666666666666,
              "#ed7953"
             ],
             [
              0.7777777777777778,
              "#fb9f3a"
             ],
             [
              0.8888888888888888,
              "#fdca26"
             ],
             [
              1.0,
              "#f0f921"
             ]
            ],
            "type": "heatmap"
           }
          ],
          "heatmapgl": [
           {
            "colorbar": {
             "outlinewidth": 0,
             "ticks": ""
            },
            "colorscale": [
             [
              0.0,
              "#0d0887"
             ],
             [
              0.1111111111111111,
              "#46039f"
             ],
             [
              0.2222222222222222,
              "#7201a8"
             ],
             [
              0.3333333333333333,
              "#9c179e"
             ],
             [
              0.4444444444444444,
              "#bd3786"
             ],
             [
              0.5555555555555556,
              "#d8576b"
             ],
             [
              0.6666666666666666,
              "#ed7953"
             ],
             [
              0.7777777777777778,
              "#fb9f3a"
             ],
             [
              0.8888888888888888,
              "#fdca26"
             ],
             [
              1.0,
              "#f0f921"
             ]
            ],
            "type": "heatmapgl"
           }
          ],
          "histogram": [
           {
            "marker": {
             "colorbar": {
              "outlinewidth": 0,
              "ticks": ""
             }
            },
            "type": "histogram"
           }
          ],
          "histogram2d": [
           {
            "colorbar": {
             "outlinewidth": 0,
             "ticks": ""
            },
            "colorscale": [
             [
              0.0,
              "#0d0887"
             ],
             [
              0.1111111111111111,
              "#46039f"
             ],
             [
              0.2222222222222222,
              "#7201a8"
             ],
             [
              0.3333333333333333,
              "#9c179e"
             ],
             [
              0.4444444444444444,
              "#bd3786"
             ],
             [
              0.5555555555555556,
              "#d8576b"
             ],
             [
              0.6666666666666666,
              "#ed7953"
             ],
             [
              0.7777777777777778,
              "#fb9f3a"
             ],
             [
              0.8888888888888888,
              "#fdca26"
             ],
             [
              1.0,
              "#f0f921"
             ]
            ],
            "type": "histogram2d"
           }
          ],
          "histogram2dcontour": [
           {
            "colorbar": {
             "outlinewidth": 0,
             "ticks": ""
            },
            "colorscale": [
             [
              0.0,
              "#0d0887"
             ],
             [
              0.1111111111111111,
              "#46039f"
             ],
             [
              0.2222222222222222,
              "#7201a8"
             ],
             [
              0.3333333333333333,
              "#9c179e"
             ],
             [
              0.4444444444444444,
              "#bd3786"
             ],
             [
              0.5555555555555556,
              "#d8576b"
             ],
             [
              0.6666666666666666,
              "#ed7953"
             ],
             [
              0.7777777777777778,
              "#fb9f3a"
             ],
             [
              0.8888888888888888,
              "#fdca26"
             ],
             [
              1.0,
              "#f0f921"
             ]
            ],
            "type": "histogram2dcontour"
           }
          ],
          "mesh3d": [
           {
            "colorbar": {
             "outlinewidth": 0,
             "ticks": ""
            },
            "type": "mesh3d"
           }
          ],
          "parcoords": [
           {
            "line": {
             "colorbar": {
              "outlinewidth": 0,
              "ticks": ""
             }
            },
            "type": "parcoords"
           }
          ],
          "pie": [
           {
            "automargin": true,
            "type": "pie"
           }
          ],
          "scatter": [
           {
            "marker": {
             "line": {
              "color": "#283442"
             }
            },
            "type": "scatter"
           }
          ],
          "scatter3d": [
           {
            "line": {
             "colorbar": {
              "outlinewidth": 0,
              "ticks": ""
             }
            },
            "marker": {
             "colorbar": {
              "outlinewidth": 0,
              "ticks": ""
             }
            },
            "type": "scatter3d"
           }
          ],
          "scattercarpet": [
           {
            "marker": {
             "colorbar": {
              "outlinewidth": 0,
              "ticks": ""
             }
            },
            "type": "scattercarpet"
           }
          ],
          "scattergeo": [
           {
            "marker": {
             "colorbar": {
              "outlinewidth": 0,
              "ticks": ""
             }
            },
            "type": "scattergeo"
           }
          ],
          "scattergl": [
           {
            "marker": {
             "line": {
              "color": "#283442"
             }
            },
            "type": "scattergl"
           }
          ],
          "scattermapbox": [
           {
            "marker": {
             "colorbar": {
              "outlinewidth": 0,
              "ticks": ""
             }
            },
            "type": "scattermapbox"
           }
          ],
          "scatterpolar": [
           {
            "marker": {
             "colorbar": {
              "outlinewidth": 0,
              "ticks": ""
             }
            },
            "type": "scatterpolar"
           }
          ],
          "scatterpolargl": [
           {
            "marker": {
             "colorbar": {
              "outlinewidth": 0,
              "ticks": ""
             }
            },
            "type": "scatterpolargl"
           }
          ],
          "scatterternary": [
           {
            "marker": {
             "colorbar": {
              "outlinewidth": 0,
              "ticks": ""
             }
            },
            "type": "scatterternary"
           }
          ],
          "surface": [
           {
            "colorbar": {
             "outlinewidth": 0,
             "ticks": ""
            },
            "colorscale": [
             [
              0.0,
              "#0d0887"
             ],
             [
              0.1111111111111111,
              "#46039f"
             ],
             [
              0.2222222222222222,
              "#7201a8"
             ],
             [
              0.3333333333333333,
              "#9c179e"
             ],
             [
              0.4444444444444444,
              "#bd3786"
             ],
             [
              0.5555555555555556,
              "#d8576b"
             ],
             [
              0.6666666666666666,
              "#ed7953"
             ],
             [
              0.7777777777777778,
              "#fb9f3a"
             ],
             [
              0.8888888888888888,
              "#fdca26"
             ],
             [
              1.0,
              "#f0f921"
             ]
            ],
            "type": "surface"
           }
          ],
          "table": [
           {
            "cells": {
             "fill": {
              "color": "#506784"
             },
             "line": {
              "color": "rgb(17,17,17)"
             }
            },
            "header": {
             "fill": {
              "color": "#2a3f5f"
             },
             "line": {
              "color": "rgb(17,17,17)"
             }
            },
            "type": "table"
           }
          ]
         },
         "layout": {
          "annotationdefaults": {
           "arrowcolor": "#f2f5fa",
           "arrowhead": 0,
           "arrowwidth": 1
          },
          "coloraxis": {
           "colorbar": {
            "outlinewidth": 0,
            "ticks": ""
           }
          },
          "colorscale": {
           "diverging": [
            [
             0,
             "#8e0152"
            ],
            [
             0.1,
             "#c51b7d"
            ],
            [
             0.2,
             "#de77ae"
            ],
            [
             0.3,
             "#f1b6da"
            ],
            [
             0.4,
             "#fde0ef"
            ],
            [
             0.5,
             "#f7f7f7"
            ],
            [
             0.6,
             "#e6f5d0"
            ],
            [
             0.7,
             "#b8e186"
            ],
            [
             0.8,
             "#7fbc41"
            ],
            [
             0.9,
             "#4d9221"
            ],
            [
             1,
             "#276419"
            ]
           ],
           "sequential": [
            [
             0.0,
             "#0d0887"
            ],
            [
             0.1111111111111111,
             "#46039f"
            ],
            [
             0.2222222222222222,
             "#7201a8"
            ],
            [
             0.3333333333333333,
             "#9c179e"
            ],
            [
             0.4444444444444444,
             "#bd3786"
            ],
            [
             0.5555555555555556,
             "#d8576b"
            ],
            [
             0.6666666666666666,
             "#ed7953"
            ],
            [
             0.7777777777777778,
             "#fb9f3a"
            ],
            [
             0.8888888888888888,
             "#fdca26"
            ],
            [
             1.0,
             "#f0f921"
            ]
           ],
           "sequentialminus": [
            [
             0.0,
             "#0d0887"
            ],
            [
             0.1111111111111111,
             "#46039f"
            ],
            [
             0.2222222222222222,
             "#7201a8"
            ],
            [
             0.3333333333333333,
             "#9c179e"
            ],
            [
             0.4444444444444444,
             "#bd3786"
            ],
            [
             0.5555555555555556,
             "#d8576b"
            ],
            [
             0.6666666666666666,
             "#ed7953"
            ],
            [
             0.7777777777777778,
             "#fb9f3a"
            ],
            [
             0.8888888888888888,
             "#fdca26"
            ],
            [
             1.0,
             "#f0f921"
            ]
           ]
          },
          "colorway": [
           "#636efa",
           "#EF553B",
           "#00cc96",
           "#ab63fa",
           "#FFA15A",
           "#19d3f3",
           "#FF6692",
           "#B6E880",
           "#FF97FF",
           "#FECB52"
          ],
          "font": {
           "color": "#f2f5fa"
          },
          "geo": {
           "bgcolor": "rgb(17,17,17)",
           "lakecolor": "rgb(17,17,17)",
           "landcolor": "rgb(17,17,17)",
           "showlakes": true,
           "showland": true,
           "subunitcolor": "#506784"
          },
          "hoverlabel": {
           "align": "left"
          },
          "hovermode": "closest",
          "mapbox": {
           "style": "dark"
          },
          "paper_bgcolor": "rgb(17,17,17)",
          "plot_bgcolor": "rgb(17,17,17)",
          "polar": {
           "angularaxis": {
            "gridcolor": "#506784",
            "linecolor": "#506784",
            "ticks": ""
           },
           "bgcolor": "rgb(17,17,17)",
           "radialaxis": {
            "gridcolor": "#506784",
            "linecolor": "#506784",
            "ticks": ""
           }
          },
          "scene": {
           "xaxis": {
            "backgroundcolor": "rgb(17,17,17)",
            "gridcolor": "#506784",
            "gridwidth": 2,
            "linecolor": "#506784",
            "showbackground": true,
            "ticks": "",
            "zerolinecolor": "#C8D4E3"
           },
           "yaxis": {
            "backgroundcolor": "rgb(17,17,17)",
            "gridcolor": "#506784",
            "gridwidth": 2,
            "linecolor": "#506784",
            "showbackground": true,
            "ticks": "",
            "zerolinecolor": "#C8D4E3"
           },
           "zaxis": {
            "backgroundcolor": "rgb(17,17,17)",
            "gridcolor": "#506784",
            "gridwidth": 2,
            "linecolor": "#506784",
            "showbackground": true,
            "ticks": "",
            "zerolinecolor": "#C8D4E3"
           }
          },
          "shapedefaults": {
           "line": {
            "color": "#f2f5fa"
           }
          },
          "sliderdefaults": {
           "bgcolor": "#C8D4E3",
           "bordercolor": "rgb(17,17,17)",
           "borderwidth": 1,
           "tickwidth": 0
          },
          "ternary": {
           "aaxis": {
            "gridcolor": "#506784",
            "linecolor": "#506784",
            "ticks": ""
           },
           "baxis": {
            "gridcolor": "#506784",
            "linecolor": "#506784",
            "ticks": ""
           },
           "bgcolor": "rgb(17,17,17)",
           "caxis": {
            "gridcolor": "#506784",
            "linecolor": "#506784",
            "ticks": ""
           }
          },
          "title": {
           "x": 0.05
          },
          "updatemenudefaults": {
           "bgcolor": "#506784",
           "borderwidth": 0
          },
          "xaxis": {
           "automargin": true,
           "gridcolor": "#283442",
           "linecolor": "#506784",
           "ticks": "",
           "title": {
            "standoff": 15
           },
           "zerolinecolor": "#283442",
           "zerolinewidth": 2
          },
          "yaxis": {
           "automargin": true,
           "gridcolor": "#283442",
           "linecolor": "#506784",
           "ticks": "",
           "title": {
            "standoff": 15
           },
           "zerolinecolor": "#283442",
           "zerolinewidth": 2
          }
         }
        },
        "title": {
         "text": "Two Predicted Factions of Zachary's Karate Club"
        },
        "width": 650
       }
      },
      "text/html": "<div>\n        \n        \n            <div id=\"11a055ce-4003-4f10-acc2-6b6101729e0c\" class=\"plotly-graph-div\" style=\"height:625px; width:650px;\"></div>\n            <script type=\"text/javascript\">\n                require([\"plotly\"], function(Plotly) {\n                    window.PLOTLYENV=window.PLOTLYENV || {};\n                    \n                if (document.getElementById(\"11a055ce-4003-4f10-acc2-6b6101729e0c\")) {\n                    Plotly.newPlot(\n                        '11a055ce-4003-4f10-acc2-6b6101729e0c',\n                        [{\"hoverinfo\": \"none\", \"line\": {\"color\": \"black\", \"width\": 2}, \"mode\": \"lines\", \"type\": \"scatter3d\", \"x\": [-0.27143063870377715, -0.25356299972617097, null, -0.25356299972617097, -0.27419294278532685, null, -0.27419294278532685, -0.3077231552443136, null, -0.3077231552443136, -0.3255347496992258, null, -0.3255347496992258, -0.4546496188432118, null, 0.19606823055141895, 0.19593611699407462, null, 0.11656379040745495, 0.19606823055141895, null, 0.19593611699407462, 0.19606823055141895, null, 0.19593611699407462, 0.19606823055141895, null, 0.19593611699407462, 0.11656379040745495, null, 0.19593611699407462, 0.19593611699407462, null, 0.19593611699407462, 0.2651772831046217, null, 0.19593611699407462, 0.20961351983263685, null, 0.19593611699407462, -0.1114447396547277, null, 0.19593611699407462, 0.18809874248869976, null, 0.19593611699407462, 0.18809874248869976, null, 0.19593611699407462, 0.18809874248869976, null, 0.19593611699407462, 0.1390089876012823, null, 0.19593611699407462, 0.1390089876012823, null, 0.19593611699407462, 0.6579963147466729, null, 0.19593611699407462, 0.6579963147466729, null, 0.19593611699407462, 0.2941063845836271, null, 0.19593611699407462, 0.4246685776401774, null, 0.19593611699407462, 0.4246685776401774, null, 0.19593611699407462, 0.4246685776401774, null, 0.19593611699407462, 0.2271476648317617, null, 0.19593611699407462, 0.1531162152403737, null, 0.19593611699407462, 0.016460196202360836, null, 0.19593611699407462, 0.6514174953766283, null, 0.19593611699407462, -0.8680777121785694, null, 0.19593611699407462, 0.10177840291463242, null, 0.17107836218275319, 0.19606823055141895, null, 0.17107836218275319, 0.19606823055141895, null, 0.15950209029047635, 0.19606823055141895, null, 0.20581081860422704, 0.19593611699407462, null, 0.2651772831046217, 0.19593611699407462, null, 0.2651772831046217, 0.20581081860422704, null, 0.20961351983263685, 0.19593611699407462, null, 0.20961351983263685, 0.20581081860422704, null, -0.3864705158308498, -0.5103075720170954, null, 0.18809874248869976, 0.19593611699407462, null, 0.18809874248869976, 0.19593611699407462, null, 0.18809874248869976, 0.19593611699407462, null, 0.18809874248869976, 0.19593611699407462, null, 0.18809874248869976, 0.19593611699407462, null, 0.18809874248869976, -0.5103075720170954, null, 0.18809874248869976, -0.3864705158308498, null, 0.18809874248869976, 0.1390089876012823, null, 0.18809874248869976, 0.1390089876012823, null, 0.18809874248869976, 0.3593589403377708, null, 0.18809874248869976, 0.2941063845836271, null, 0.18809874248869976, 0.2941063845836271, null, 0.18809874248869976, 0.1531162152403737, null, 0.18809874248869976, 0.2452332254645576, null, 0.18809874248869976, 0.2452332254645576, null, 0.18809874248869976, 0.2452332254645576, null, 0.1390089876012823, -0.5103075720170954, null, 0.1390089876012823, -0.3864705158308498, null, 0.1390089876012823, 0.3593589403377708, null, 0.1390089876012823, 0.1617135708309341, null, 0.17745636629678332, 0.18809874248869976, null, 0.2941063845836271, 0.19593611699407462, null, 0.2941063845836271, 0.18809874248869976, null, 0.2941063845836271, 0.4246685776401774, null, 0.2941063845836271, 0.4246685776401774, null, 0.2941063845836271, 0.2452332254645576, null, 0.4246685776401774, 0.19593611699407462, null, 0.4246685776401774, 0.19593611699407462, null, 0.4246685776401774, 0.19593611699407462, null, 0.4246685776401774, 0.6579963147466729, null, 0.4246685776401774, 0.2941063845836271, null, 0.4246685776401774, 0.717878378575141, null, 0.2271476648317617, 0.19593611699407462, null, 0.1531162152403737, 0.19593611699407462, null, 0.1531162152403737, 0.19593611699407462, null, 0.1531162152403737, -0.1114447396547277, null, 0.1531162152403737, 0.18809874248869976, null, 0.1531162152403737, 0.18809874248869976, null, 0.1531162152403737, 0.3593589403377708, null, 0.1531162152403737, -0.3048762367321239, null, 0.1531162152403737, 0.2452332254645576, null, 0.2452332254645576, 0.19593611699407462, null, 0.2452332254645576, 0.19593611699407462, null, 0.2452332254645576, 0.18809874248869976, null, 0.2452332254645576, 0.18809874248869976, null, 0.2452332254645576, 0.18809874248869976, null, 0.2452332254645576, 0.3593589403377708, null, 0.2452332254645576, 0.3593589403377708, null, 0.2452332254645576, 0.1531162152403737, null, 0.2452332254645576, -0.3048762367321239, null, -0.5901884908229567, -0.3048762367321239, null, -0.5901884908229567, -0.7924872919315934, null, -0.7924872919315934, -0.9969109419648546, null, 0.1617135708309341, 0.18809874248869976, null, 0.1617135708309341, 0.1390089876012823, null, 0.19432299527572036, 0.19593611699407462, null], \"y\": [-0.20078119499111816, -0.1514934285221892, null, -0.1514934285221892, -0.09110446713241842, null, -0.09110446713241842, -0.041258239204378884, null, -0.041258239204378884, 0.00620931922188445, null, 0.00620931922188445, 0.055679258301143716, null, 0.06202468599595302, 0.03012647437111709, null, 0.025172703799195638, 0.06202468599595302, null, 0.03012647437111709, 0.06202468599595302, null, 0.03012647437111709, 0.06202468599595302, null, 0.03012647437111709, 0.025172703799195638, null, 0.03012647437111709, 0.03012647437111709, null, 0.03012647437111709, -0.02425938917112615, null, 0.03012647437111709, -0.061452110647785343, null, 0.03012647437111709, -0.7827893457510042, null, 0.03012647437111709, 0.2455680425841487, null, 0.03012647437111709, 0.2455680425841487, null, 0.03012647437111709, 0.2455680425841487, null, 0.03012647437111709, 0.5561116801964773, null, 0.03012647437111709, 0.5561116801964773, null, 0.03012647437111709, -0.24125304247681684, null, 0.03012647437111709, -0.24125304247681684, null, 0.03012647437111709, 0.07708408078209023, null, 0.03012647437111709, -0.17872381006046753, null, 0.03012647437111709, -0.17872381006046753, null, 0.03012647437111709, -0.17872381006046753, null, 0.03012647437111709, 0.0396583416859577, null, 0.03012647437111709, 0.06656242371855912, null, 0.03012647437111709, -0.05543494240348114, null, 0.03012647437111709, -0.2463176671927923, null, 0.03012647437111709, 0.29849920575534605, null, 0.03012647437111709, 0.5820103802573316, null, 0.05622358384860144, 0.06202468599595302, null, 0.05622358384860144, 0.06202468599595302, null, 0.06670796927076751, 0.06202468599595302, null, -0.009303373748941093, 0.03012647437111709, null, -0.02425938917112615, 0.03012647437111709, null, -0.02425938917112615, -0.009303373748941093, null, -0.061452110647785343, 0.03012647437111709, null, -0.061452110647785343, -0.009303373748941093, null, 0.496254680891948, 0.7197814379889559, null, 0.2455680425841487, 0.03012647437111709, null, 0.2455680425841487, 0.03012647437111709, null, 0.2455680425841487, 0.03012647437111709, null, 0.2455680425841487, 0.03012647437111709, null, 0.2455680425841487, 0.03012647437111709, null, 0.2455680425841487, 0.7197814379889559, null, 0.2455680425841487, 0.496254680891948, null, 0.2455680425841487, 0.5561116801964773, null, 0.2455680425841487, 0.5561116801964773, null, 0.2455680425841487, 0.7305798001391355, null, 0.2455680425841487, 0.07708408078209023, null, 0.2455680425841487, 0.07708408078209023, null, 0.2455680425841487, 0.06656242371855912, null, 0.2455680425841487, 0.3286836144861722, null, 0.2455680425841487, 0.3286836144861722, null, 0.2455680425841487, 0.3286836144861722, null, 0.5561116801964773, 0.7197814379889559, null, 0.5561116801964773, 0.496254680891948, null, 0.5561116801964773, 0.7305798001391355, null, 0.5561116801964773, 0.40955540048106787, null, 0.298382463997818, 0.2455680425841487, null, 0.07708408078209023, 0.03012647437111709, null, 0.07708408078209023, 0.2455680425841487, null, 0.07708408078209023, -0.17872381006046753, null, 0.07708408078209023, -0.17872381006046753, null, 0.07708408078209023, 0.3286836144861722, null, -0.17872381006046753, 0.03012647437111709, null, -0.17872381006046753, 0.03012647437111709, null, -0.17872381006046753, 0.03012647437111709, null, -0.17872381006046753, -0.24125304247681684, null, -0.17872381006046753, 0.07708408078209023, null, -0.17872381006046753, -0.6209861090724236, null, 0.0396583416859577, 0.03012647437111709, null, 0.06656242371855912, 0.03012647437111709, null, 0.06656242371855912, 0.03012647437111709, null, 0.06656242371855912, -0.7827893457510042, null, 0.06656242371855912, 0.2455680425841487, null, 0.06656242371855912, 0.2455680425841487, null, 0.06656242371855912, 0.7305798001391355, null, 0.06656242371855912, -0.9664871616008937, null, 0.06656242371855912, 0.3286836144861722, null, 0.3286836144861722, 0.03012647437111709, null, 0.3286836144861722, 0.03012647437111709, null, 0.3286836144861722, 0.2455680425841487, null, 0.3286836144861722, 0.2455680425841487, null, 0.3286836144861722, 0.2455680425841487, null, 0.3286836144861722, 0.7305798001391355, null, 0.3286836144861722, 0.7305798001391355, null, 0.3286836144861722, 0.06656242371855912, null, 0.3286836144861722, -0.9664871616008937, null, -0.4320364426574071, -0.9664871616008937, null, -0.4320364426574071, -0.054076934045755504, null, -0.054076934045755504, -0.06801587337892583, null, 0.40955540048106787, 0.2455680425841487, null, 0.40955540048106787, 0.5561116801964773, null, 0.0033652343715627115, 0.03012647437111709, null], \"z\": [0.41448541122379506, 0.4818343546251349, null, 0.4818343546251349, 0.5607275821467753, null, 0.5607275821467753, 0.6329535313070975, null, 0.6329535313070975, 0.6279260317657791, null, 0.6279260317657791, 0.9222698008905158, null, -0.09086320797129585, -0.09626673335315518, null, -0.1015264369430941, -0.09086320797129585, null, -0.09626673335315518, -0.09086320797129585, null, -0.09626673335315518, -0.09086320797129585, null, -0.09626673335315518, -0.1015264369430941, null, -0.09626673335315518, -0.09626673335315518, null, -0.09626673335315518, -0.07368002913592143, null, -0.09626673335315518, -0.07331737771399571, null, -0.09626673335315518, -0.7418738729702326, null, -0.09626673335315518, -0.04801694218753662, null, -0.09626673335315518, -0.04801694218753662, null, -0.09626673335315518, -0.04801694218753662, null, -0.09626673335315518, 0.01201225594990092, null, -0.09626673335315518, 0.01201225594990092, null, -0.09626673335315518, 0.674396144814867, null, -0.09626673335315518, 0.674396144814867, null, -0.09626673335315518, 0.02056005941246285, null, -0.09626673335315518, 0.11899486491482573, null, -0.09626673335315518, 0.11899486491482573, null, -0.09626673335315518, 0.11899486491482573, null, -0.09626673335315518, -0.09655176474782863, null, -0.09626673335315518, -0.18052752149496754, null, -0.09626673335315518, -0.8701817114824794, null, -0.09626673335315518, -0.5381778318349391, null, -0.09626673335315518, -0.5561969794430225, null, -0.09626673335315518, -0.6984688179674617, null, -0.0919909105022855, -0.09086320797129585, null, -0.0919909105022855, -0.09086320797129585, null, -0.11469117344082673, -0.09086320797129585, null, -0.036227362597074805, -0.09626673335315518, null, -0.07368002913592143, -0.09626673335315518, null, -0.07368002913592143, -0.036227362597074805, null, -0.07331737771399571, -0.09626673335315518, null, -0.07331737771399571, -0.036227362597074805, null, -0.31775394581064736, -0.4347495831335327, null, -0.04801694218753662, -0.09626673335315518, null, -0.04801694218753662, -0.09626673335315518, null, -0.04801694218753662, -0.09626673335315518, null, -0.04801694218753662, -0.09626673335315518, null, -0.04801694218753662, -0.09626673335315518, null, -0.04801694218753662, -0.4347495831335327, null, -0.04801694218753662, -0.31775394581064736, null, -0.04801694218753662, 0.01201225594990092, null, -0.04801694218753662, 0.01201225594990092, null, -0.04801694218753662, 0.160695352193408, null, -0.04801694218753662, 0.02056005941246285, null, -0.04801694218753662, 0.02056005941246285, null, -0.04801694218753662, -0.18052752149496754, null, -0.04801694218753662, 0.005543168012172487, null, -0.04801694218753662, 0.005543168012172487, null, -0.04801694218753662, 0.005543168012172487, null, 0.01201225594990092, -0.4347495831335327, null, 0.01201225594990092, -0.31775394581064736, null, 0.01201225594990092, 0.160695352193408, null, 0.01201225594990092, -0.016159712784110103, null, -0.06220695661105085, -0.04801694218753662, null, 0.02056005941246285, -0.09626673335315518, null, 0.02056005941246285, -0.04801694218753662, null, 0.02056005941246285, 0.11899486491482573, null, 0.02056005941246285, 0.11899486491482573, null, 0.02056005941246285, 0.005543168012172487, null, 0.11899486491482573, -0.09626673335315518, null, 0.11899486491482573, -0.09626673335315518, null, 0.11899486491482573, -0.09626673335315518, null, 0.11899486491482573, 0.674396144814867, null, 0.11899486491482573, 0.02056005941246285, null, 0.11899486491482573, 0.013822904654263652, null, -0.09655176474782863, -0.09626673335315518, null, -0.18052752149496754, -0.09626673335315518, null, -0.18052752149496754, -0.09626673335315518, null, -0.18052752149496754, -0.7418738729702326, null, -0.18052752149496754, -0.04801694218753662, null, -0.18052752149496754, -0.04801694218753662, null, -0.18052752149496754, 0.160695352193408, null, -0.18052752149496754, -0.3851838172343046, null, -0.18052752149496754, 0.005543168012172487, null, 0.005543168012172487, -0.09626673335315518, null, 0.005543168012172487, -0.09626673335315518, null, 0.005543168012172487, -0.04801694218753662, null, 0.005543168012172487, -0.04801694218753662, null, 0.005543168012172487, -0.04801694218753662, null, 0.005543168012172487, 0.160695352193408, null, 0.005543168012172487, 0.160695352193408, null, 0.005543168012172487, -0.18052752149496754, null, 0.005543168012172487, -0.3851838172343046, null, -0.07372087123357862, -0.3851838172343046, null, -0.07372087123357862, 0.1469436681683334, null, 0.1469436681683334, 0.17022751010790382, null, -0.016159712784110103, -0.04801694218753662, null, -0.016159712784110103, 0.01201225594990092, null, -0.10300269108332968, -0.09626673335315518, null]}, {\"hoverinfo\": \"text\", \"marker\": {\"colorscale\": [[0.0, \"lightgreen\"], [1.0, \"magenta\"]], \"line\": {\"color\": \"black\", \"width\": 0.5}, \"size\": 10, \"symbol\": \"circle\"}, \"mode\": \"markers\", \"type\": \"scatter3d\", \"x\": [0.19432299527572036, 0.19593611699407462], \"y\": [0.0033652343715627115, 0.03012647437111709], \"z\": [-0.10300269108332968, -0.09626673335315518]}],\n                        {\"height\": 625, \"hovermode\": \"closest\", \"margin\": {\"t\": 100}, \"scene\": {\"xaxis\": {\"showbackground\": false, \"showgrid\": false, \"showline\": false, \"showticklabels\": false, \"title\": {\"text\": \"\"}, \"zeroline\": false}, \"yaxis\": {\"showbackground\": false, \"showgrid\": false, \"showline\": false, \"showticklabels\": false, \"title\": {\"text\": \"\"}, \"zeroline\": false}, \"zaxis\": {\"showbackground\": false, \"showgrid\": false, \"showline\": false, \"showticklabels\": false, \"title\": {\"text\": \"\"}, \"zeroline\": false}}, \"showlegend\": false, \"template\": {\"data\": {\"bar\": [{\"error_x\": {\"color\": \"#f2f5fa\"}, \"error_y\": {\"color\": \"#f2f5fa\"}, \"marker\": {\"line\": {\"color\": \"rgb(17,17,17)\", \"width\": 0.5}}, \"type\": \"bar\"}], \"barpolar\": [{\"marker\": {\"line\": {\"color\": \"rgb(17,17,17)\", \"width\": 0.5}}, \"type\": \"barpolar\"}], \"carpet\": [{\"aaxis\": {\"endlinecolor\": \"#A2B1C6\", \"gridcolor\": \"#506784\", \"linecolor\": \"#506784\", \"minorgridcolor\": \"#506784\", \"startlinecolor\": \"#A2B1C6\"}, \"baxis\": {\"endlinecolor\": \"#A2B1C6\", \"gridcolor\": \"#506784\", \"linecolor\": \"#506784\", \"minorgridcolor\": \"#506784\", \"startlinecolor\": \"#A2B1C6\"}, \"type\": \"carpet\"}], \"choropleth\": [{\"colorbar\": {\"outlinewidth\": 0, \"ticks\": \"\"}, \"type\": \"choropleth\"}], \"contour\": [{\"colorbar\": {\"outlinewidth\": 0, \"ticks\": \"\"}, \"colorscale\": [[0.0, \"#0d0887\"], [0.1111111111111111, \"#46039f\"], [0.2222222222222222, \"#7201a8\"], [0.3333333333333333, \"#9c179e\"], [0.4444444444444444, \"#bd3786\"], [0.5555555555555556, \"#d8576b\"], [0.6666666666666666, \"#ed7953\"], [0.7777777777777778, \"#fb9f3a\"], [0.8888888888888888, \"#fdca26\"], [1.0, \"#f0f921\"]], \"type\": \"contour\"}], \"contourcarpet\": [{\"colorbar\": {\"outlinewidth\": 0, \"ticks\": \"\"}, \"type\": \"contourcarpet\"}], \"heatmap\": [{\"colorbar\": {\"outlinewidth\": 0, \"ticks\": \"\"}, \"colorscale\": [[0.0, \"#0d0887\"], [0.1111111111111111, \"#46039f\"], [0.2222222222222222, \"#7201a8\"], [0.3333333333333333, \"#9c179e\"], [0.4444444444444444, \"#bd3786\"], [0.5555555555555556, \"#d8576b\"], [0.6666666666666666, \"#ed7953\"], [0.7777777777777778, \"#fb9f3a\"], [0.8888888888888888, \"#fdca26\"], [1.0, \"#f0f921\"]], \"type\": \"heatmap\"}], \"heatmapgl\": [{\"colorbar\": {\"outlinewidth\": 0, \"ticks\": \"\"}, \"colorscale\": [[0.0, \"#0d0887\"], [0.1111111111111111, \"#46039f\"], [0.2222222222222222, \"#7201a8\"], [0.3333333333333333, \"#9c179e\"], [0.4444444444444444, \"#bd3786\"], [0.5555555555555556, \"#d8576b\"], [0.6666666666666666, \"#ed7953\"], [0.7777777777777778, \"#fb9f3a\"], [0.8888888888888888, \"#fdca26\"], [1.0, \"#f0f921\"]], \"type\": \"heatmapgl\"}], \"histogram\": [{\"marker\": {\"colorbar\": {\"outlinewidth\": 0, \"ticks\": \"\"}}, \"type\": \"histogram\"}], \"histogram2d\": [{\"colorbar\": {\"outlinewidth\": 0, \"ticks\": \"\"}, \"colorscale\": [[0.0, \"#0d0887\"], [0.1111111111111111, \"#46039f\"], [0.2222222222222222, \"#7201a8\"], [0.3333333333333333, \"#9c179e\"], [0.4444444444444444, \"#bd3786\"], [0.5555555555555556, \"#d8576b\"], [0.6666666666666666, \"#ed7953\"], [0.7777777777777778, \"#fb9f3a\"], [0.8888888888888888, \"#fdca26\"], [1.0, \"#f0f921\"]], \"type\": \"histogram2d\"}], \"histogram2dcontour\": [{\"colorbar\": {\"outlinewidth\": 0, \"ticks\": \"\"}, \"colorscale\": [[0.0, \"#0d0887\"], [0.1111111111111111, \"#46039f\"], [0.2222222222222222, \"#7201a8\"], [0.3333333333333333, \"#9c179e\"], [0.4444444444444444, \"#bd3786\"], [0.5555555555555556, \"#d8576b\"], [0.6666666666666666, \"#ed7953\"], [0.7777777777777778, \"#fb9f3a\"], [0.8888888888888888, \"#fdca26\"], [1.0, \"#f0f921\"]], \"type\": \"histogram2dcontour\"}], \"mesh3d\": [{\"colorbar\": {\"outlinewidth\": 0, \"ticks\": \"\"}, \"type\": \"mesh3d\"}], \"parcoords\": [{\"line\": {\"colorbar\": {\"outlinewidth\": 0, \"ticks\": \"\"}}, \"type\": \"parcoords\"}], \"pie\": [{\"automargin\": true, \"type\": \"pie\"}], \"scatter\": [{\"marker\": {\"line\": {\"color\": \"#283442\"}}, \"type\": \"scatter\"}], \"scatter3d\": [{\"line\": {\"colorbar\": {\"outlinewidth\": 0, \"ticks\": \"\"}}, \"marker\": {\"colorbar\": {\"outlinewidth\": 0, \"ticks\": \"\"}}, \"type\": \"scatter3d\"}], \"scattercarpet\": [{\"marker\": {\"colorbar\": {\"outlinewidth\": 0, \"ticks\": \"\"}}, \"type\": \"scattercarpet\"}], \"scattergeo\": [{\"marker\": {\"colorbar\": {\"outlinewidth\": 0, \"ticks\": \"\"}}, \"type\": \"scattergeo\"}], \"scattergl\": [{\"marker\": {\"line\": {\"color\": \"#283442\"}}, \"type\": \"scattergl\"}], \"scattermapbox\": [{\"marker\": {\"colorbar\": {\"outlinewidth\": 0, \"ticks\": \"\"}}, \"type\": \"scattermapbox\"}], \"scatterpolar\": [{\"marker\": {\"colorbar\": {\"outlinewidth\": 0, \"ticks\": \"\"}}, \"type\": \"scatterpolar\"}], \"scatterpolargl\": [{\"marker\": {\"colorbar\": {\"outlinewidth\": 0, \"ticks\": \"\"}}, \"type\": \"scatterpolargl\"}], \"scatterternary\": [{\"marker\": {\"colorbar\": {\"outlinewidth\": 0, \"ticks\": \"\"}}, \"type\": \"scatterternary\"}], \"surface\": [{\"colorbar\": {\"outlinewidth\": 0, \"ticks\": \"\"}, \"colorscale\": [[0.0, \"#0d0887\"], [0.1111111111111111, \"#46039f\"], [0.2222222222222222, \"#7201a8\"], [0.3333333333333333, \"#9c179e\"], [0.4444444444444444, \"#bd3786\"], [0.5555555555555556, \"#d8576b\"], [0.6666666666666666, \"#ed7953\"], [0.7777777777777778, \"#fb9f3a\"], [0.8888888888888888, \"#fdca26\"], [1.0, \"#f0f921\"]], \"type\": \"surface\"}], \"table\": [{\"cells\": {\"fill\": {\"color\": \"#506784\"}, \"line\": {\"color\": \"rgb(17,17,17)\"}}, \"header\": {\"fill\": {\"color\": \"#2a3f5f\"}, \"line\": {\"color\": \"rgb(17,17,17)\"}}, \"type\": \"table\"}]}, \"layout\": {\"annotationdefaults\": {\"arrowcolor\": \"#f2f5fa\", \"arrowhead\": 0, \"arrowwidth\": 1}, \"coloraxis\": {\"colorbar\": {\"outlinewidth\": 0, \"ticks\": \"\"}}, \"colorscale\": {\"diverging\": [[0, \"#8e0152\"], [0.1, \"#c51b7d\"], [0.2, \"#de77ae\"], [0.3, \"#f1b6da\"], [0.4, \"#fde0ef\"], [0.5, \"#f7f7f7\"], [0.6, \"#e6f5d0\"], [0.7, \"#b8e186\"], [0.8, \"#7fbc41\"], [0.9, \"#4d9221\"], [1, \"#276419\"]], \"sequential\": [[0.0, \"#0d0887\"], [0.1111111111111111, \"#46039f\"], [0.2222222222222222, \"#7201a8\"], [0.3333333333333333, \"#9c179e\"], [0.4444444444444444, \"#bd3786\"], [0.5555555555555556, \"#d8576b\"], [0.6666666666666666, \"#ed7953\"], [0.7777777777777778, \"#fb9f3a\"], [0.8888888888888888, \"#fdca26\"], [1.0, \"#f0f921\"]], \"sequentialminus\": [[0.0, \"#0d0887\"], [0.1111111111111111, \"#46039f\"], [0.2222222222222222, \"#7201a8\"], [0.3333333333333333, \"#9c179e\"], [0.4444444444444444, \"#bd3786\"], [0.5555555555555556, \"#d8576b\"], [0.6666666666666666, \"#ed7953\"], [0.7777777777777778, \"#fb9f3a\"], [0.8888888888888888, \"#fdca26\"], [1.0, \"#f0f921\"]]}, \"colorway\": [\"#636efa\", \"#EF553B\", \"#00cc96\", \"#ab63fa\", \"#FFA15A\", \"#19d3f3\", \"#FF6692\", \"#B6E880\", \"#FF97FF\", \"#FECB52\"], \"font\": {\"color\": \"#f2f5fa\"}, \"geo\": {\"bgcolor\": \"rgb(17,17,17)\", \"lakecolor\": \"rgb(17,17,17)\", \"landcolor\": \"rgb(17,17,17)\", \"showlakes\": true, \"showland\": true, \"subunitcolor\": \"#506784\"}, \"hoverlabel\": {\"align\": \"left\"}, \"hovermode\": \"closest\", \"mapbox\": {\"style\": \"dark\"}, \"paper_bgcolor\": \"rgb(17,17,17)\", \"plot_bgcolor\": \"rgb(17,17,17)\", \"polar\": {\"angularaxis\": {\"gridcolor\": \"#506784\", \"linecolor\": \"#506784\", \"ticks\": \"\"}, \"bgcolor\": \"rgb(17,17,17)\", \"radialaxis\": {\"gridcolor\": \"#506784\", \"linecolor\": \"#506784\", \"ticks\": \"\"}}, \"scene\": {\"xaxis\": {\"backgroundcolor\": \"rgb(17,17,17)\", \"gridcolor\": \"#506784\", \"gridwidth\": 2, \"linecolor\": \"#506784\", \"showbackground\": true, \"ticks\": \"\", \"zerolinecolor\": \"#C8D4E3\"}, \"yaxis\": {\"backgroundcolor\": \"rgb(17,17,17)\", \"gridcolor\": \"#506784\", \"gridwidth\": 2, \"linecolor\": \"#506784\", \"showbackground\": true, \"ticks\": \"\", \"zerolinecolor\": \"#C8D4E3\"}, \"zaxis\": {\"backgroundcolor\": \"rgb(17,17,17)\", \"gridcolor\": \"#506784\", \"gridwidth\": 2, \"linecolor\": \"#506784\", \"showbackground\": true, \"ticks\": \"\", \"zerolinecolor\": \"#C8D4E3\"}}, \"shapedefaults\": {\"line\": {\"color\": \"#f2f5fa\"}}, \"sliderdefaults\": {\"bgcolor\": \"#C8D4E3\", \"bordercolor\": \"rgb(17,17,17)\", \"borderwidth\": 1, \"tickwidth\": 0}, \"ternary\": {\"aaxis\": {\"gridcolor\": \"#506784\", \"linecolor\": \"#506784\", \"ticks\": \"\"}, \"baxis\": {\"gridcolor\": \"#506784\", \"linecolor\": \"#506784\", \"ticks\": \"\"}, \"bgcolor\": \"rgb(17,17,17)\", \"caxis\": {\"gridcolor\": \"#506784\", \"linecolor\": \"#506784\", \"ticks\": \"\"}}, \"title\": {\"x\": 0.05}, \"updatemenudefaults\": {\"bgcolor\": \"#506784\", \"borderwidth\": 0}, \"xaxis\": {\"automargin\": true, \"gridcolor\": \"#283442\", \"linecolor\": \"#506784\", \"ticks\": \"\", \"title\": {\"standoff\": 15}, \"zerolinecolor\": \"#283442\", \"zerolinewidth\": 2}, \"yaxis\": {\"automargin\": true, \"gridcolor\": \"#283442\", \"linecolor\": \"#506784\", \"ticks\": \"\", \"title\": {\"standoff\": 15}, \"zerolinecolor\": \"#283442\", \"zerolinewidth\": 2}}}, \"title\": {\"text\": \"Two Predicted Factions of Zachary's Karate Club\"}, \"width\": 650},\n                        {\"responsive\": true}\n                    ).then(function(){\n                            \nvar gd = document.getElementById('11a055ce-4003-4f10-acc2-6b6101729e0c');\nvar x = new MutationObserver(function (mutations, observer) {{\n        var display = window.getComputedStyle(gd).display;\n        if (!display || display === 'none') {{\n            console.log([gd, 'removed!']);\n            Plotly.purge(gd);\n            observer.disconnect();\n        }}\n}});\n\n// Listen for the removal of the full notebook cells\nvar notebookContainer = gd.closest('#notebook-container');\nif (notebookContainer) {{\n    x.observe(notebookContainer, {childList: true});\n}}\n\n// Listen for the clearing of the current output cell\nvar outputEl = gd.closest('.output');\nif (outputEl) {{\n    x.observe(outputEl, {childList: true});\n}}\n\n                        })\n                };\n                });\n            </script>\n        </div>"
     },
     "metadata": {},
     "output_type": "display_data"
    },
    {
     "data": {
      "text/plain": "<Figure size 720x504 with 1 Axes>",
      "image/png": "[encoded data removed]"
     },
     "metadata": {},
     "output_type": "display_data"
    }
   ],
   "source": [
    "n = G.number_of_nodes()\n",
    "\n",
    "pos = nx.spring_layout(G,dim=3, seed=18)\n",
    "\n",
    "\n",
    "numNodes = G.number_of_nodes()\n",
    "\n",
    "\n",
    "with plt.style.context((('ggplot'))):\n",
    "    fig = plt.figure(figsize=(10,7))\n",
    "    ax = Axes3D(fig)\n",
    "\n",
    "     # Loop on the pos dictionary to extract the x,y,z coordinates of each node\n",
    "    for key, value in pos.items():\n",
    "        xi = value[0]\n",
    "        yi = value[1]\n",
    "        zi = value[2]\n",
    "\n",
    "            # Scatter plot\n",
    "        ax.scatter(xi, yi, zi, s=20+20*G.degree(key), edgecolors='k', alpha=0.7)\n",
    "\n",
    "    # Loop on the list of edges to get the x,y,z, coordinates of the connected nodes\n",
    "    # Those two points are the extrema of the line to be plotted\n",
    "    for i,j in enumerate(G.edges()):\n",
    "\n",
    "        x = np.array((pos[j[0]][0], pos[j[1]][0]))\n",
    "        y = np.array((pos[j[0]][1], pos[j[1]][1]))\n",
    "        z = np.array((pos[j[0]][2], pos[j[1]][2]))\n",
    "\n",
    "    # Plot the connecting lines\n",
    "        ax.plot(x, y, z, c='black', alpha=0.5)\n",
    "\n",
    "\n",
    "\n",
    "\n",
    "edge_list = G.edges()\n",
    "\n",
    "#we  need to create lists that contain the starting and ending coordinates of each edge.\n",
    "x_edges=[]\n",
    "y_edges=[]\n",
    "z_edges=[]\n",
    "\n",
    "#need to fill these with all of the coordiates\n",
    "for edge in edge_list:\n",
    "    #format: [beginning,ending,None]\n",
    "    x_coords = [pos[edge[0]][0],pos[edge[1]][0],None]\n",
    "    x_edges += x_coords\n",
    "\n",
    "    y_coords = [pos[edge[0]][1],pos[edge[1]][1],None]\n",
    "    y_edges += y_coords\n",
    "\n",
    "    z_coords = [pos[edge[0]][2],pos[edge[1]][2],None]\n",
    "    z_edges += z_coords\n",
    "\n",
    "#create a trace for the edges\n",
    "trace_edges = go.Scatter3d(x=x_edges,\n",
    "                        y=y_edges,\n",
    "                        z=z_edges,\n",
    "                        mode='lines',\n",
    "                        line=dict(color='black', width=2),\n",
    "                        hoverinfo='none')\n",
    "\n",
    "\n",
    "#create a trace for the nodes\n",
    "trace_nodes = go.Scatter3d(x=x,\n",
    "                         y=y,\n",
    "                        z=z,\n",
    "                        mode='markers',\n",
    "                        marker=dict(symbol='circle',\n",
    "                                    size=10,\n",
    "                                    colorscale=['lightgreen','magenta'], #either green or mageneta\n",
    "                                    line=dict(color='black', width=0.5)),\n",
    "                        hoverinfo='text')\n",
    "axis = dict(showbackground=False,\n",
    "            showline=False,\n",
    "            zeroline=False,\n",
    "            showgrid=False,\n",
    "            showticklabels=False,\n",
    "            title='')\n",
    "\n",
    "#also need to create the layout for our plot\n",
    "layout = go.Layout(title=\"Two Predicted Factions of Zachary's Karate Club\",\n",
    "                width=650,\n",
    "                height=625,\n",
    "                showlegend=False,\n",
    "                scene=dict(xaxis=dict(axis),\n",
    "                        yaxis=dict(axis),\n",
    "                        zaxis=dict(axis),\n",
    "                        ),\n",
    "                margin=dict(t=100),\n",
    "                hovermode='closest')\n",
    "\n",
    "#Include the traces we want to plot and create a figure\n",
    "data = [trace_edges, trace_nodes]\n",
    "fig = go.Figure(data=data, layout=layout)\n",
    "\n",
    "fig.show()\n",
    "\n",
    "# Set the initial view\n",
    " #ax.view_init(30, 10)\n",
    "\n",
    "# Hide the axes\n",
    "#ax.set_axis_off()\n",
    "\n"
   ],
   "metadata": {
    "collapsed": false,
    "pycharm": {
     "name": "#%%\n"
    }
   }
  },
  {
   "cell_type": "code",
   "execution_count": null,
   "outputs": [],
   "source": [
    "def network_plot_3D(G, angle, save=False):\n",
    "\n",
    "    # Get node positions\n",
    "    pos = nx.get_node_attributes(G, 'pos')\n",
    "\n",
    "    # Get number of nodes\n",
    "    n = G.number_of_nodes()\n",
    "\n",
    "    # Get the maximum number of edges adjacent to a single node\n",
    "    edge_max = max([G.degree(i) for i in range(n)])\n",
    "\n",
    "    # Define color range proportional to number of edges adjacent to a single node\n",
    "    colors = [plt.cm.plasma(G.degree(i)/edge_max) for i in range(n)]\n",
    "\n",
    "    # 3D network plot\n",
    "    with plt.style.context(('ggplot')):\n",
    "\n",
    "        fig = plt.figure(figsize=(10,7))\n",
    "        ax = Axes3D(fig)\n",
    "\n",
    "        # Loop on the pos dictionary to extract the x,y,z coordinates of each node\n",
    "        for key, value in pos.items():\n",
    "            xi = value[0]\n",
    "            yi = value[1]\n",
    "            zi = value[2]\n",
    "\n",
    "            # Scatter plot\n",
    "            ax.scatter(xi, yi, zi, c=colors[key], s=20+20*G.degree(key), edgecolors='k', alpha=0.7)\n",
    "\n",
    "        # Loop on the list of edges to get the x,y,z, coordinates of the connected nodes\n",
    "        # Those two points are the extrema of the line to be plotted\n",
    "        for i,j in enumerate(G.edges()):\n",
    "\n",
    "            x = np.array((pos[j[0]][0], pos[j[1]][0]))\n",
    "            y = np.array((pos[j[0]][1], pos[j[1]][1]))\n",
    "            z = np.array((pos[j[0]][2], pos[j[1]][2]))\n",
    "\n",
    "        # Plot the connecting lines\n",
    "            ax.plot(x, y, z, c='black', alpha=0.5)\n",
    "\n",
    "    # Set the initial view\n",
    "    ax.view_init(30, angle)\n",
    "\n",
    "    # Hide the axes\n",
    "    ax.set_axis_off()\n",
    "\n"
   ],
   "metadata": {
    "collapsed": false,
    "pycharm": {
     "name": "#%%\n"
    }
   }
  },
  {
   "cell_type": "code",
   "execution_count": null,
   "outputs": [],
   "source": [],
   "metadata": {
    "collapsed": false,
    "pycharm": {
     "name": "#%%\n"
    }
   }
  }
 ],
 "metadata": {
  "kernelspec": {
   "display_name": "Python 3",
   "language": "python",
   "name": "python3"
  },
  "language_info": {
   "codemirror_mode": {
    "name": "ipython",
    "version": 2
   },
   "file_extension": ".py",
   "mimetype": "text/x-python",
   "name": "python",
   "nbconvert_exporter": "python",
   "pygments_lexer": "ipython2",
   "version": "2.7.6"
  }
 },
 "nbformat": 4,
 "nbformat_minor": 0
}