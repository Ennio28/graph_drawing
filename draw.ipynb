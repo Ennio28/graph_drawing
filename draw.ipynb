{
 "cells": [
  {
   "cell_type": "code",
   "execution_count": 16,
   "metadata": {
    "collapsed": true,
    "pycharm": {
     "name": "#%%\n"
    }
   },
   "outputs": [],
   "source": []
  },
  {
   "cell_type": "code",
   "execution_count": 2,
   "outputs": [],
   "source": [
    "import json\n",
    "import networkx as nx\n",
    "import plotly.graph_objects as go\n",
    "import matplotlib.pyplot as plt\n",
    "from csv import reader\n"
   ],
   "metadata": {
    "collapsed": false,
    "pycharm": {
     "name": "#%%\n"
    }
   }
  },
  {
   "cell_type": "code",
   "execution_count": 3,
   "outputs": [
    {
     "name": "stdout",
     "output_type": "stream",
     "text": [
      "43\n",
      "71\n"
     ]
    }
   ],
   "source": [
    "graph = None\n",
    "with open(\"graph.json\") as json_file:\n",
    "    graph = json.load(json_file)\n",
    "\n",
    "listaNodi = list()\n",
    "with open('graph_nodes.csv', 'r') as read_obj:\n",
    "    csv_reader = reader(read_obj)\n",
    "    header = next(csv_reader)\n",
    "    # Check file as empty\n",
    "    if header != None:\n",
    "        # Iterate over each row after the header in the csv\n",
    "        for row in csv_reader:\n",
    "            # row variable is a list that represents a row in csv\n",
    "            listaNodi.append(row[0:3])\n",
    "print(len(listaNodi))\n",
    "\n",
    "edge_labels = dict()\n",
    "for edge in graph[\"links\"]:\n",
    "    edge_labels[(edge['source'], edge['target'])] = edge['action_description']\n",
    "print(len(edge_labels))\n",
    "\n",
    "node_labels = dict()\n",
    "for node in graph[\"nodes\"]:\n",
    "    node_labels[(node[\"id\"])] = node['label']\n",
    "\n",
    "graph = None\n",
    "with open(\"graph.json\") as json_file:\n",
    "    graph = json.load(json_file)\n",
    "\n",
    "node_labels = dict()\n",
    "\n",
    "\n"
   ],
   "metadata": {
    "collapsed": false,
    "pycharm": {
     "name": "#%%\n"
    }
   }
  },
  {
   "cell_type": "code",
   "execution_count": 19,
   "outputs": [
    {
     "name": "stdout",
     "output_type": "stream",
     "text": [
      "87\n"
     ]
    },
    {
     "ename": "NameError",
     "evalue": "name 'links' is not defined",
     "output_type": "error",
     "traceback": [
      "\u001B[1;31m---------------------------------------------------------------------------\u001B[0m",
      "\u001B[1;31mNameError\u001B[0m                                 Traceback (most recent call last)",
      "Input \u001B[1;32mIn [19]\u001B[0m, in \u001B[0;36m<cell line: 7>\u001B[1;34m()\u001B[0m\n\u001B[0;32m      4\u001B[0m     G\u001B[38;5;241m.\u001B[39madd_nodes_from(nodo)\n\u001B[0;32m      6\u001B[0m \u001B[38;5;28mprint\u001B[39m(G\u001B[38;5;241m.\u001B[39mnumber_of_nodes())\n\u001B[1;32m----> 7\u001B[0m G\u001B[38;5;241m.\u001B[39madd_edges_from(\u001B[43mlinks\u001B[49m)\n\u001B[0;32m      9\u001B[0m pos \u001B[38;5;241m=\u001B[39m nx\u001B[38;5;241m.\u001B[39mspring_layout(G, seed\u001B[38;5;241m=\u001B[39m\u001B[38;5;241m2\u001B[39m)\n\u001B[0;32m     10\u001B[0m pos \u001B[38;5;241m=\u001B[39m nx\u001B[38;5;241m.\u001B[39mkamada_kawai_layout(G, pos\u001B[38;5;241m=\u001B[39mpos)\n",
      "\u001B[1;31mNameError\u001B[0m: name 'links' is not defined"
     ]
    }
   ],
   "source": [
    "    G = nx.DiGraph()\n",
    "\n",
    "    for nodo in listaNodi:\n",
    "        G.add_nodes_from(nodo)\n",
    "\n",
    "    print(G.number_of_nodes())\n",
    "    G.add_edges_from(links)\n",
    "\n",
    "    pos = nx.spring_layout(G, seed=2)\n",
    "    pos = nx.kamada_kawai_layout(G, pos=pos)\n",
    "    pos = nx.spring_layout(G, seed=2, pos=pos)\n",
    "\n",
    "    nx.draw_networkx_nodes(G, pos=pos, alpha=0.4)\n",
    "    nx.draw_networkx_edges(G, pos=pos, width=0.5)\n",
    "\n",
    "    nx.draw_networkx_edge_labels(G, pos=pos, edge_labels=link_label)\n",
    "    nx.draw_networkx_labels(node_labels)\n",
    "\n",
    "    nx.draw_networkx(G, pos=pos, arrows=True, arrowsize=15, with_labels=True, node_size=250, style='dashed',\n",
    "                     labels=node_labels)\n",
    "\n",
    "print(G.number_of_nodes())\n",
    "print(len(listaNodi))\n",
    "nx.draw_networkx(G, arrows= bool, with_labels= False)\n",
    "plt.show()\n"
   ],
   "metadata": {
    "collapsed": false,
    "pycharm": {
     "name": "#%%\n"
    }
   }
  },
  {
   "cell_type": "code",
   "execution_count": 7,
   "outputs": [
    {
     "name": "stdout",
     "output_type": "stream",
     "text": [
      "26\n"
     ]
    }
   ],
   "source": [
    "graph = None\n",
    "with open(\"graph.json\") as json_file:\n",
    "    graph = json.load(json_file)\n",
    "\n",
    "label = dict()\n",
    "for edge in graph['links']:\n",
    "    label[edge['source']] = edge['action_description']\n",
    "\n",
    "print(len(label))"
   ],
   "metadata": {
    "collapsed": false,
    "pycharm": {
     "name": "#%%\n"
    }
   }
  },
  {
   "cell_type": "code",
   "execution_count": 9,
   "outputs": [
    {
     "name": "stdout",
     "output_type": "stream",
     "text": [
      "71\n"
     ]
    }
   ],
   "source": [
    "with open('graph_edges.csv', 'r') as read_obj:\n",
    "    csv_reader = reader(read_obj)\n",
    "    header = next(csv_reader)\n",
    "    lista_label_archi = dict()\n",
    "    # Check file as empty\n",
    "    if header is not None:\n",
    "        # Iterate over each row after the header in the csv\n",
    "        for row in csv_reader:\n",
    "            # row variable is a list that represents a row in csv\n",
    "            lista_label_archi[(row[0], row[1])] = row[3]\n",
    "print(len(lista_label_archi))"
   ],
   "metadata": {
    "collapsed": false,
    "pycharm": {
     "name": "#%%\n"
    }
   }
  },
  {
   "cell_type": "code",
   "execution_count": 12,
   "outputs": [
    {
     "data": {
      "text/plain": "110"
     },
     "execution_count": 12,
     "metadata": {},
     "output_type": "execute_result"
    }
   ],
   "source": [
    "\n",
    "labelArchi = []\n",
    "labelArchiProva = dict()\n",
    "\n",
    "for i in range(110):\n",
    "    graph_link = graph[\"links\"][i][\"action_description\"]\n",
    "    labelArchi.append(graph_link)\n",
    "    labelArchiProva[()]\n",
    "\n",
    "\n",
    "len(labelArchi)\n",
    "\n"
   ],
   "metadata": {
    "collapsed": false,
    "pycharm": {
     "name": "#%%\n"
    }
   }
  },
  {
   "cell_type": "code",
   "execution_count": null,
   "outputs": [],
   "source": [
    "numberNodes = G.number_of_nodes()\n",
    "labelNodi = []\n",
    "\n",
    "for i in range(numberNodes):\n",
    "    graph_link = graph[\"nodes\"][i][\"label\"]\n",
    "    labelNodi.append(graph_link)\n",
    "labelNodi\n"
   ],
   "metadata": {
    "collapsed": false,
    "pycharm": {
     "name": "#%%\n"
    }
   }
  },
  {
   "cell_type": "code",
   "execution_count": null,
   "outputs": [],
   "source": [
    "import networkx as nx\n",
    "import plotly.graph_objects as go\n",
    "import pandas as pd\n",
    "\n",
    "%matplotlib inline"
   ],
   "metadata": {
    "collapsed": false,
    "pycharm": {
     "name": "#%%\n"
    }
   }
  },
  {
   "cell_type": "code",
   "execution_count": null,
   "outputs": [],
   "source": [
    "graph = None\n",
    "with open(\"graph.json\") as json_file:\n",
    "    graph = json.load(json_file)\n",
    "\n",
    "G = nx.DiGraph()\n",
    "\n",
    "G.add_nodes_from([(node['id'] for node in graph['nodes'])])\n",
    "\n",
    "G.add_edges_from([(edge['source'], edge['target'])\n",
    "                  for edge in graph['links']])\n",
    "\n",
    "pos = nx.spring_layout(G, seed = 2)\n",
    "pos = nx.kamada_kawai_layout(G, pos = pos)\n",
    "\n",
    "edge_label = nx.draw_networkx_edge_labels(G, pos = pos)\n",
    "\n",
    "\n",
    "\n",
    "nx.draw(G, pos, with_labels= True)\n",
    "plt.show()\n"
   ],
   "metadata": {
    "collapsed": false,
    "pycharm": {
     "name": "#%%\n"
    }
   }
  },
  {
   "cell_type": "code",
   "execution_count": null,
   "outputs": [],
   "source": [
    "numberNodes = G.number_of_nodes()\n",
    "gruppo_maschi = []\n",
    "gruppo_femmine= list()\n",
    "gruppo_neutro = list()\n",
    "genere = []\n",
    "\n",
    "for i in range(numberNodes):\n",
    "    graph_link = graph[\"nodes\"][i][\"gender\"]\n",
    "    genere.append(graph_link)\n",
    "\n",
    "value = 0\n",
    "for j in range(numberNodes):\n",
    "    tmp = genere[j]\n",
    "    if tmp == 1:\n",
    "        gruppo_maschi.append(value + 1)\n",
    "    elif tmp == 2:\n",
    "        gruppo_neutro.append(value + 1)\n",
    "    elif tmp == 0:\n",
    "        gruppo_femmine.append(value + 1)\n",
    "\n",
    "genere[24]\n"
   ],
   "metadata": {
    "collapsed": false,
    "pycharm": {
     "name": "#%%\n"
    }
   }
  },
  {
   "cell_type": "code",
   "execution_count": null,
   "outputs": [],
   "source": [
    "nx.draw_networkx_edge_labels()"
   ],
   "metadata": {
    "collapsed": false,
    "pycharm": {
     "name": "#%%\n"
    }
   }
  },
  {
   "cell_type": "code",
   "execution_count": null,
   "outputs": [],
   "source": [
    "graph = None\n",
    "with open(\"graph.json\") as json_file:\n",
    "    graph = json.load(json_file)\n",
    "\n",
    "lista_archi = dict()\n",
    "for archi in graph[\"links\"]:\n",
    "    lista_archi[(archi['source'])] = archi['target']\n",
    "\n",
    "len(lista_archi)"
   ],
   "metadata": {
    "collapsed": false,
    "pycharm": {
     "name": "#%%\n"
    }
   }
  },
  {
   "cell_type": "code",
   "execution_count": 21,
   "outputs": [
    {
     "data": {
      "text/plain": "43"
     },
     "execution_count": 21,
     "metadata": {},
     "output_type": "execute_result"
    }
   ],
   "source": [
    "lista_nodi = list()\n",
    "with open('graph_nodes.csv', 'r') as read_obj:\n",
    "    csv_reader = reader(read_obj)\n",
    "    header = next(csv_reader)\n",
    "    # Check file as empty\n",
    "    if header != None:\n",
    "        # Iterate over each row after the header in the csv\n",
    "        for row in csv_reader:\n",
    "            # row variable is a list that represents a row in csv\n",
    "            lista_nodi.append(row[0:3])\n",
    "\n",
    "len(lista_nodi)"
   ],
   "metadata": {
    "collapsed": false,
    "pycharm": {
     "name": "#%%\n"
    }
   }
  },
  {
   "cell_type": "code",
   "execution_count": 31,
   "outputs": [
    {
     "name": "stdout",
     "output_type": "stream",
     "text": [
      "[('1', '2'), ('2', '3'), ('3', '4'), ('4', '5'), ('5', '6'), ('7', '9'), ('8', '7'), ('9', '7'), ('9', '7'), ('9', '8'), ('9', '9'), ('9', '13'), ('9', '14'), ('9', '15'), ('9', '18'), ('9', '18'), ('9', '18'), ('9', '19'), ('9', '19'), ('9', '22'), ('9', '22'), ('9', '23'), ('9', '24'), ('9', '24'), ('9', '24'), ('9', '24'), ('9', '26'), ('9', '26'), ('9', '29'), ('9', '37'), ('9', '38'), ('9', '41'), ('9', '42'), ('10', '7'), ('10', '7'), ('11', '7'), ('12', '9'), ('13', '9'), ('13', '12'), ('14', '9'), ('14', '12'), ('17', '16'), ('18', '9'), ('18', '9'), ('18', '9'), ('18', '9'), ('18', '9'), ('18', '9'), ('18', '9'), ('18', '9'), ('18', '16'), ('18', '17'), ('18', '19'), ('18', '19'), ('18', '21'), ('18', '23'), ('18', '23'), ('18', '29'), ('18', '29'), ('18', '31'), ('18', '31'), ('18', '31'), ('18', '31'), ('18', '31'), ('19', '16'), ('19', '17'), ('19', '21'), ('19', '35'), ('20', '18'), ('23', '9'), ('23', '18'), ('23', '24'), ('23', '24'), ('23', '31'), ('24', '9'), ('24', '9'), ('24', '9'), ('24', '22'), ('24', '23'), ('24', '25'), ('24', '25'), ('26', '9'), ('29', '9'), ('29', '9'), ('29', '15'), ('29', '18'), ('29', '18'), ('29', '18'), ('29', '18'), ('29', '21'), ('29', '30'), ('29', '31'), ('31', '9'), ('31', '9'), ('31', '18'), ('31', '18'), ('31', '18'), ('31', '18'), ('31', '18'), ('31', '18'), ('31', '21'), ('31', '21'), ('31', '29'), ('31', '30'), ('32', '30'), ('32', '33'), ('33', '34'), ('35', '18'), ('35', '19'), ('36', '9')]\n"
     ]
    }
   ],
   "source": [
    "graph = None\n",
    "with open(\"graph.json\") as json_file:\n",
    "    graph = json.load(json_file)\n",
    "\n",
    "lista_archi = list()\n",
    "for archi in graph[\"links\"]:\n",
    "    lista_archi.append((archi[\"source\"], archi[\"target\"]))\n",
    "\n",
    "len(lista_archi)\n",
    "print(lista_archi)"
   ],
   "metadata": {
    "collapsed": false,
    "pycharm": {
     "name": "#%%\n"
    }
   }
  },
  {
   "cell_type": "markdown",
   "source": [
    "Cerco di colorare il grafo"
   ],
   "metadata": {
    "collapsed": false,
    "pycharm": {
     "name": "#%% md\n"
    }
   }
  },
  {
   "cell_type": "code",
   "execution_count": 60,
   "outputs": [
    {
     "name": "stdout",
     "output_type": "stream",
     "text": [
      "1\n",
      "1\n",
      "1\n",
      "2\n",
      "1\n",
      "3\n",
      "1\n",
      "4\n",
      "1\n",
      "5\n",
      "1\n",
      "6\n",
      "1\n",
      "7\n",
      "0\n",
      "8\n",
      "1\n",
      "9\n",
      "0\n",
      "10\n",
      "1\n",
      "11\n",
      "0\n",
      "12\n",
      "1\n",
      "13\n",
      "1\n",
      "14\n",
      "2\n",
      "15\n",
      "1\n",
      "16\n",
      "0\n",
      "17\n",
      "1\n",
      "18\n",
      "1\n",
      "19\n",
      "0\n",
      "20\n",
      "1\n",
      "21\n",
      "2\n",
      "22\n",
      "1\n",
      "23\n",
      "1\n",
      "24\n",
      "1\n",
      "25\n",
      "1\n",
      "26\n",
      "0\n",
      "27\n",
      "1\n",
      "28\n",
      "1\n",
      "29\n",
      "1\n",
      "30\n",
      "1\n",
      "31\n",
      "1\n",
      "32\n",
      "1\n",
      "33\n",
      "1\n",
      "34\n",
      "1\n",
      "35\n",
      "0\n",
      "36\n",
      "1\n",
      "37\n",
      "1\n",
      "38\n",
      "1\n",
      "39\n",
      "1\n",
      "40\n",
      "1\n",
      "41\n",
      "1\n",
      "42\n",
      "0\n",
      "43\n",
      "143\n",
      "43\n"
     ]
    }
   ],
   "source": [
    "G = nx.DiGraph()\n",
    "\n",
    "Num_nodes = 43\n",
    "\n",
    "graph = None\n",
    "with open(\"graph.json\") as json_file:\n",
    "    graph = json.load(json_file)\n",
    "\n",
    "comunitaMaschi = dict()\n",
    "comunita_femmine = dict()\n",
    "comunita_neutro = dict()\n",
    "\n",
    "maschi = list()\n",
    "femmine = list()\n",
    "neutri = list()\n",
    "i = 0\n",
    "for node in graph[\"nodes\"]:\n",
    "    print(node[\"gender\"])\n",
    "    print(node[\"id\"])\n",
    "    if int(node[\"gender\"]) == 0:\n",
    "        comunita_neutro[(node[\"id\"])] = 0\n",
    "        neutri.append(int(node[\"id\"]))\n",
    "\n",
    "    if int(node[\"gender\"]) == 1:\n",
    "        comunitaMaschi[(node[\"id\"])] = node['gender']\n",
    "        maschi.append(int(node[\"id\"]))\n",
    "\n",
    "    if int(node[\"gender\"]) == 2:\n",
    "        comunita_femmine[(node[\"id\"])] = node['gender']\n",
    "        femmine.append(int(node[\"id\"]))\n",
    "\n",
    "\n",
    "\n",
    "print(len(maschi)+ len(femmine) +len(neutri)+100)\n",
    "print(len(comunita_femmine)+ len(comunita_neutro) + len(comunitaMaschi))\n"
   ],
   "metadata": {
    "collapsed": false,
    "pycharm": {
     "name": "#%%\n"
    }
   }
  },
  {
   "cell_type": "code",
   "execution_count": null,
   "outputs": [],
   "source": [],
   "metadata": {
    "collapsed": false,
    "pycharm": {
     "name": "#%%\n"
    }
   }
  }
 ],
 "metadata": {
  "kernelspec": {
   "display_name": "Python 3",
   "language": "python",
   "name": "python3"
  },
  "language_info": {
   "codemirror_mode": {
    "name": "ipython",
    "version": 2
   },
   "file_extension": ".py",
   "mimetype": "text/x-python",
   "name": "python",
   "nbconvert_exporter": "python",
   "pygments_lexer": "ipython2",
   "version": "2.7.6"
  }
 },
 "nbformat": 4,
 "nbformat_minor": 0
}