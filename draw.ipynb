{
 "cells": [
  {
   "cell_type": "code",
   "execution_count": 1,
   "metadata": {
    "collapsed": true,
    "pycharm": {
     "name": "#%%\n"
    }
   },
   "outputs": [],
   "source": []
  },
  {
   "cell_type": "code",
   "execution_count": 2,
   "outputs": [],
   "source": [
    "import json\n",
    "import networkx as nx\n",
    "import plotly.graph_objects as go\n",
    "import matplotlib.pyplot as plt\n",
    "from csv import reader\n"
   ],
   "metadata": {
    "collapsed": false,
    "pycharm": {
     "name": "#%%\n"
    }
   }
  },
  {
   "cell_type": "code",
   "execution_count": 6,
   "outputs": [
    {
     "name": "stdout",
     "output_type": "stream",
     "text": [
      "43\n"
     ]
    }
   ],
   "source": [
    "graph = None\n",
    "with open(\"graph.json\") as json_file:\n",
    "    graph = json.load(json_file)\n",
    "\n",
    "listaNodi = list()\n",
    "with open('graph_nodes.csv', 'r') as read_obj:\n",
    "    csv_reader = reader(read_obj)\n",
    "    header = next(csv_reader)\n",
    "    # Check file as empty\n",
    "    if header != None:\n",
    "        # Iterate over each row after the header in the csv\n",
    "        for row in csv_reader:\n",
    "            # row variable is a list that represents a row in csv\n",
    "            listaNodi.append(row[0:3])\n",
    "print(len(listaNodi))\n",
    "edge_labels = dict()\n",
    "for edge in graph[\"links\"]:\n",
    "    edge_labels[(edge['source'], edge['target'])] = edge['action_description']\n",
    "\n",
    "node_labels = dict()\n",
    "for node in graph[\"nodes\"]:\n",
    "    node_labels[(node[\"id\"])] = node['label']\n",
    "\n",
    "graph = None\n",
    "with open(\"graph.json\") as json_file:\n",
    "    graph = json.load(json_file)\n",
    "\n",
    "node_labels = dict()\n",
    "\n",
    "\n"
   ],
   "metadata": {
    "collapsed": false,
    "pycharm": {
     "name": "#%%\n"
    }
   }
  },
  {
   "cell_type": "code",
   "execution_count": 5,
   "outputs": [
    {
     "ename": "ValueError",
     "evalue": "too many values to unpack (expected 2)",
     "output_type": "error",
     "traceback": [
      "\u001B[1;31m---------------------------------------------------------------------------\u001B[0m",
      "\u001B[1;31mTypeError\u001B[0m                                 Traceback (most recent call last)",
      "File \u001B[1;32m~\\AppData\\Roaming\\Python\\Python310\\site-packages\\networkx\\classes\\digraph.py:482\u001B[0m, in \u001B[0;36mDiGraph.add_nodes_from\u001B[1;34m(self, nodes_for_adding, **attr)\u001B[0m\n\u001B[0;32m    481\u001B[0m \u001B[38;5;28;01mtry\u001B[39;00m:\n\u001B[1;32m--> 482\u001B[0m     newnode \u001B[38;5;241m=\u001B[39m \u001B[43mn\u001B[49m\u001B[43m \u001B[49m\u001B[38;5;129;43;01mnot\u001B[39;49;00m\u001B[43m \u001B[49m\u001B[38;5;129;43;01min\u001B[39;49;00m\u001B[43m \u001B[49m\u001B[38;5;28;43mself\u001B[39;49m\u001B[38;5;241;43m.\u001B[39;49m\u001B[43m_node\u001B[49m\n\u001B[0;32m    483\u001B[0m     newdict \u001B[38;5;241m=\u001B[39m attr\n",
      "\u001B[1;31mTypeError\u001B[0m: unhashable type: 'list'",
      "\nDuring handling of the above exception, another exception occurred:\n",
      "\u001B[1;31mValueError\u001B[0m                                Traceback (most recent call last)",
      "Input \u001B[1;32mIn [5]\u001B[0m, in \u001B[0;36m<cell line: 3>\u001B[1;34m()\u001B[0m\n\u001B[0;32m      1\u001B[0m G \u001B[38;5;241m=\u001B[39m nx\u001B[38;5;241m.\u001B[39mDiGraph()\n\u001B[1;32m----> 3\u001B[0m \u001B[43mG\u001B[49m\u001B[38;5;241;43m.\u001B[39;49m\u001B[43madd_nodes_from\u001B[49m\u001B[43m(\u001B[49m\u001B[43mlistaNodi\u001B[49m\u001B[43m)\u001B[49m\n\u001B[0;32m      5\u001B[0m G\u001B[38;5;241m.\u001B[39madd_edges_from(links)\n\u001B[0;32m      7\u001B[0m pos \u001B[38;5;241m=\u001B[39m nx\u001B[38;5;241m.\u001B[39mspring_layout(G, seed\u001B[38;5;241m=\u001B[39m\u001B[38;5;241m2\u001B[39m)\n",
      "File \u001B[1;32m~\\AppData\\Roaming\\Python\\Python310\\site-packages\\networkx\\classes\\digraph.py:485\u001B[0m, in \u001B[0;36mDiGraph.add_nodes_from\u001B[1;34m(self, nodes_for_adding, **attr)\u001B[0m\n\u001B[0;32m    483\u001B[0m     newdict \u001B[38;5;241m=\u001B[39m attr\n\u001B[0;32m    484\u001B[0m \u001B[38;5;28;01mexcept\u001B[39;00m \u001B[38;5;167;01mTypeError\u001B[39;00m:\n\u001B[1;32m--> 485\u001B[0m     n, ndict \u001B[38;5;241m=\u001B[39m n\n\u001B[0;32m    486\u001B[0m     newnode \u001B[38;5;241m=\u001B[39m n \u001B[38;5;129;01mnot\u001B[39;00m \u001B[38;5;129;01min\u001B[39;00m \u001B[38;5;28mself\u001B[39m\u001B[38;5;241m.\u001B[39m_node\n\u001B[0;32m    487\u001B[0m     newdict \u001B[38;5;241m=\u001B[39m attr\u001B[38;5;241m.\u001B[39mcopy()\n",
      "\u001B[1;31mValueError\u001B[0m: too many values to unpack (expected 2)"
     ]
    }
   ],
   "source": [
    "    G = nx.DiGraph()\n",
    "\n",
    "    G.add_nodes_from(listaNodi)\n",
    "\n",
    "    G.add_edges_from(links)\n",
    "\n",
    "    pos = nx.spring_layout(G, seed=2)\n",
    "    pos = nx.kamada_kawai_layout(G, pos=pos)\n",
    "    pos = nx.spring_layout(G, seed=2, pos=pos)\n",
    "\n",
    "    nx.draw_networkx_nodes(G, pos=pos, alpha=0.4)\n",
    "    nx.draw_networkx_edges(G, pos=pos, width=0.5)\n",
    "\n",
    "    nx.draw_networkx_edge_labels(G, pos=pos, edge_labels=link_label)\n",
    "    nx.draw_networkx_labels(node_labels)\n",
    "\n",
    "    nx.draw_networkx(G, pos=pos, arrows=True, arrowsize=15, with_labels=True, node_size=250, style='dashed',\n",
    "                     labels=node_labels)\n",
    "\n",
    "print(G.number_of_nodes())\n",
    "print(len(listaNodi))\n",
    "nx.draw_networkx(G, arrows= bool, with_labels= False)\n",
    "plt.show()\n"
   ],
   "metadata": {
    "collapsed": false,
    "pycharm": {
     "name": "#%%\n"
    }
   }
  },
  {
   "cell_type": "code",
   "execution_count": null,
   "outputs": [],
   "source": [],
   "metadata": {
    "collapsed": false,
    "pycharm": {
     "name": "#%%\n"
    }
   }
  },
  {
   "cell_type": "code",
   "execution_count": null,
   "outputs": [],
   "source": [],
   "metadata": {
    "collapsed": false,
    "pycharm": {
     "name": "#%%\n"
    }
   }
  },
  {
   "cell_type": "code",
   "execution_count": null,
   "outputs": [],
   "source": [
    "\n",
    "\n",
    "number_edges = G.number_of_edges()\n",
    "labelArchi = []\n",
    "labelArchiProva = dict()\n",
    "\n",
    "for i in range(number_edges):\n",
    "    graph_link = graph[\"links\"][i][\"action_description\"]\n",
    "    labelArchi.append(graph_link)\n",
    "    labelArchiProva[()]\n",
    "\n",
    "len(labelArchi)\n",
    "\n"
   ],
   "metadata": {
    "collapsed": false,
    "pycharm": {
     "name": "#%%\n"
    }
   }
  },
  {
   "cell_type": "code",
   "execution_count": null,
   "outputs": [],
   "source": [
    "numberNodes = G.number_of_nodes()\n",
    "labelNodi = []\n",
    "\n",
    "for i in range(numberNodes):\n",
    "    graph_link = graph[\"nodes\"][i][\"label\"]\n",
    "    labelNodi.append(graph_link)\n",
    "labelNodi\n"
   ],
   "metadata": {
    "collapsed": false,
    "pycharm": {
     "name": "#%%\n"
    }
   }
  },
  {
   "cell_type": "code",
   "execution_count": null,
   "outputs": [],
   "source": [
    "import networkx as nx\n",
    "import plotly.graph_objects as go\n",
    "import pandas as pd\n",
    "\n",
    "%matplotlib inline"
   ],
   "metadata": {
    "collapsed": false,
    "pycharm": {
     "name": "#%%\n"
    }
   }
  },
  {
   "cell_type": "code",
   "execution_count": null,
   "outputs": [],
   "source": [
    "graph = None\n",
    "with open(\"graph.json\") as json_file:\n",
    "    graph = json.load(json_file)\n",
    "\n",
    "G = nx.DiGraph()\n",
    "\n",
    "G.add_nodes_from([(node['id'] for node in graph['nodes'])])\n",
    "\n",
    "G.add_edges_from([(edge['source'], edge['target'])\n",
    "                  for edge in graph['links']])\n",
    "\n",
    "pos = nx.spring_layout(G, seed = 2)\n",
    "pos = nx.kamada_kawai_layout(G, pos = pos)\n",
    "\n",
    "edge_label = nx.draw_networkx_edge_labels(G, pos = pos)\n",
    "\n",
    "\n",
    "\n",
    "nx.draw(G, pos, with_labels= True)\n",
    "plt.show()\n"
   ],
   "metadata": {
    "collapsed": false,
    "pycharm": {
     "name": "#%%\n"
    }
   }
  },
  {
   "cell_type": "code",
   "execution_count": null,
   "outputs": [],
   "source": [
    "numberNodes = G.number_of_nodes()\n",
    "gruppo_maschi = []\n",
    "gruppo_femmine= list()\n",
    "gruppo_neutro = list()\n",
    "genere = []\n",
    "\n",
    "for i in range(numberNodes):\n",
    "    graph_link = graph[\"nodes\"][i][\"gender\"]\n",
    "    genere.append(graph_link)\n",
    "\n",
    "value = 0\n",
    "for j in range(numberNodes):\n",
    "    tmp = genere[j]\n",
    "    if tmp == 1:\n",
    "        gruppo_maschi.append(value + 1)\n",
    "    elif tmp == 2:\n",
    "        gruppo_neutro.append(value + 1)\n",
    "    elif tmp == 0:\n",
    "        gruppo_femmine.append(value + 1)\n",
    "\n",
    "genere[24]\n"
   ],
   "metadata": {
    "collapsed": false,
    "pycharm": {
     "name": "#%%\n"
    }
   }
  },
  {
   "cell_type": "code",
   "execution_count": null,
   "outputs": [],
   "source": [
    "nx.draw_networkx_edge_labels()"
   ],
   "metadata": {
    "collapsed": false,
    "pycharm": {
     "name": "#%%\n"
    }
   }
  },
  {
   "cell_type": "code",
   "execution_count": null,
   "outputs": [],
   "source": [
    "graph = None\n",
    "with open(\"graph.json\") as json_file:\n",
    "    graph = json.load(json_file)\n",
    "\n",
    "    lista_archi = dict()\n",
    "    for archi in graph[\"links\"]:\n",
    "        lista_archi[(archi['source'])] = archi['target']\n",
    "\n",
    "len(lista_archi)"
   ],
   "metadata": {
    "collapsed": false,
    "pycharm": {
     "name": "#%%\n"
    }
   }
  },
  {
   "cell_type": "code",
   "execution_count": null,
   "outputs": [],
   "source": [],
   "metadata": {
    "collapsed": false,
    "pycharm": {
     "name": "#%%\n"
    }
   }
  }
 ],
 "metadata": {
  "kernelspec": {
   "display_name": "Python 3",
   "language": "python",
   "name": "python3"
  },
  "language_info": {
   "codemirror_mode": {
    "name": "ipython",
    "version": 2
   },
   "file_extension": ".py",
   "mimetype": "text/x-python",
   "name": "python",
   "nbconvert_exporter": "python",
   "pygments_lexer": "ipython2",
   "version": "2.7.6"
  }
 },
 "nbformat": 4,
 "nbformat_minor": 0
}