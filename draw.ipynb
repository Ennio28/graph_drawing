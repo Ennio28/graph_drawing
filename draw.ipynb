{
 "cells": [
  {
   "cell_type": "code",
   "execution_count": null,
   "metadata": {
    "collapsed": true,
    "pycharm": {
     "name": "#%%\n"
    }
   },
   "outputs": [],
   "source": []
  },
  {
   "cell_type": "code",
   "execution_count": 1,
   "outputs": [],
   "source": [
    "import json\n",
    "import networkx as nx\n",
    "import plotly.graph_objects as go\n",
    "import matplotlib.pyplot as plt\n",
    "from csv import reader\n"
   ],
   "metadata": {
    "collapsed": false,
    "pycharm": {
     "name": "#%%\n"
    }
   }
  },
  {
   "cell_type": "code",
   "execution_count": 7,
   "outputs": [
    {
     "name": "stdout",
     "output_type": "stream",
     "text": [
      "43\n",
      "96\n",
      "43\n"
     ]
    }
   ],
   "source": [
    "graph = None\n",
    "with open(\"graph.json\") as json_file:\n",
    "    graph = json.load(json_file)\n",
    "\n",
    "listaNodi = list()\n",
    "with open('graph_nodes.csv', 'r') as read_obj:\n",
    "    csv_reader = reader(read_obj)\n",
    "    header = next(csv_reader)\n",
    "    # Check file as empty\n",
    "    if header != None:\n",
    "        # Iterate over each row after the header in the csv\n",
    "        for row in csv_reader:\n",
    "            # row variable is a list that represents a row in csv\n",
    "            listaNodi.append(row[0:3])\n",
    "print(len(listaNodi))\n",
    "\n",
    "edge_labels = dict()\n",
    "for edge in graph[\"links\"]:\n",
    "    edge_labels[(edge['source'], edge['target'], edge[\"action\"])] = edge['action_description']\n",
    "print(len(edge_labels))\n",
    "\n",
    "node_labels = dict()\n",
    "for node in graph[\"nodes\"]:\n",
    "    node_labels[(node[\"id\"])] = node['label']\n",
    "\n",
    "print(len(node_labels))\n",
    "\n",
    "\n"
   ],
   "metadata": {
    "collapsed": false,
    "pycharm": {
     "name": "#%%\n"
    }
   }
  },
  {
   "cell_type": "code",
   "execution_count": 3,
   "outputs": [
    {
     "name": "stdout",
     "output_type": "stream",
     "text": [
      "26\n"
     ]
    }
   ],
   "source": [
    "graph = None\n",
    "with open(\"graph.json\") as json_file:\n",
    "    graph = json.load(json_file)\n",
    "\n",
    "label = dict()\n",
    "for edge in graph['links']:\n",
    "    if edge['action_description'] is None:\n",
    "        print(\"True\")\n",
    "    label[edge['source']] = edge['action_description']\n",
    "\n",
    "print(len(label))"
   ],
   "metadata": {
    "collapsed": false,
    "pycharm": {
     "name": "#%%\n"
    }
   }
  },
  {
   "cell_type": "code",
   "execution_count": 4,
   "outputs": [
    {
     "name": "stdout",
     "output_type": "stream",
     "text": [
      "71\n"
     ]
    }
   ],
   "source": [
    "with open('graph_edges.csv', 'r') as read_obj:\n",
    "    csv_reader = reader(read_obj)\n",
    "    header = next(csv_reader)\n",
    "    lista_label_archi = dict()\n",
    "    # Check file as empty\n",
    "    if header is not None:\n",
    "        # Iterate over each row after the header in the csv\n",
    "        for row in csv_reader:\n",
    "            # row variable is a list that represents a row in csv\n",
    "            lista_label_archi[(row[0], row[1])] = row[3]\n",
    "print(len(lista_label_archi))"
   ],
   "metadata": {
    "collapsed": false,
    "pycharm": {
     "name": "#%%\n"
    }
   }
  },
  {
   "cell_type": "code",
   "execution_count": 8,
   "outputs": [
    {
     "name": "stdout",
     "output_type": "stream",
     "text": [
      "{('1', '2'): 'descent', ('2', '3'): 'descent', ('3', '4'): 'descent', ('4', '5'): 'descent', ('5', '6'): 'descent', ('7', '9'): 'offer assistance', ('8', '7'): 'marriage', ('9', '7'): 'request assistance', ('9', '8'): 'descent', ('9', '9'): 'death_neutral', ('9', '13'): 'inheritance', ('9', '14'): 'inheritance', ('9', '15'): 'offer assistance', ('9', '18'): 'conversation_neutral', ('9', '19'): 'hostility_lethal', ('9', '22'): 'ownership', ('9', '23'): 'intervention', ('9', '24'): 'accusation', ('9', '26'): 'request assistance', ('9', '29'): 'request assistance', ('9', '37'): 'summons', ('9', '38'): 'summons', ('9', '41'): 'summons', ('9', '42'): 'summons', ('10', '7'): 'death_neutral', ('11', '7'): 'provide information', ('12', '9'): 'marriage', ('13', '9'): 'descent', ('13', '12'): 'descent', ('14', '9'): 'descent', ('14', '12'): 'descent', ('17', '16'): 'marriage', ('18', '9'): 'insult', ('18', '16'): 'descent', ('18', '17'): 'descent', ('18', '19'): 'giftgiving', ('18', '21'): 'request assistance', ('18', '23'): 'giftgiving', ('18', '29'): 'giftgiving', ('18', '31'): 'giftgiving', ('19', '16'): 'descent', ('19', '17'): 'descent', ('19', '21'): 'giftgiving', ('19', '35'): 'offer assistance', ('20', '18'): 'marriage', ('23', '9'): 'challenge', ('23', '18'): 'request assistance', ('23', '24'): 'provide information', ('23', '31'): 'hostility_non-lethal', ('24', '9'): 'provide information', ('24', '22'): 'request assistance', ('24', '23'): 'descent', ('24', '25'): 'request assistance', ('26', '9'): 'discover information', ('29', '9'): 'threat', ('29', '15'): 'provide information', ('29', '18'): 'giftgiving', ('29', '21'): 'summons', ('29', '30'): 'descent', ('29', '31'): 'intervention', ('31', '9'): 'insult', ('31', '18'): 'giftgiving', ('31', '21'): 'summons', ('31', '29'): 'offer assistance', ('31', '30'): 'descent', ('32', '30'): 'descent', ('32', '33'): 'marriage', ('33', '34'): 'descent', ('35', '18'): 'request assistance', ('35', '19'): 'provide information', ('36', '9'): 'insult'}\n",
      "71\n"
     ]
    }
   ],
   "source": [
    "\n",
    "labelArchi = []\n",
    "labelArchiProva = dict()\n",
    "\n",
    "\n",
    "with open(\"graph.json\") as json_file:\n",
    "    graph = json.load(json_file)\n",
    "\n",
    "label = dict()\n",
    "i = 0\n",
    "for edge in graph['links']:\n",
    "    if i <=110:\n",
    "        label[(edge[\"source\"], edge[\"target\"])] =edge[\"action_description\"]\n",
    "        i = i +1\n",
    "\n",
    "print(label)\n",
    "print(len(label))"
   ],
   "metadata": {
    "collapsed": false,
    "pycharm": {
     "name": "#%%\n"
    }
   }
  },
  {
   "cell_type": "code",
   "execution_count": 6,
   "outputs": [
    {
     "ename": "NameError",
     "evalue": "name 'G' is not defined",
     "output_type": "error",
     "traceback": [
      "\u001B[1;31m---------------------------------------------------------------------------\u001B[0m",
      "\u001B[1;31mNameError\u001B[0m                                 Traceback (most recent call last)",
      "Input \u001B[1;32mIn [6]\u001B[0m, in \u001B[0;36m<cell line: 1>\u001B[1;34m()\u001B[0m\n\u001B[1;32m----> 1\u001B[0m numberNodes \u001B[38;5;241m=\u001B[39m \u001B[43mG\u001B[49m\u001B[38;5;241m.\u001B[39mnumber_of_nodes()\n\u001B[0;32m      2\u001B[0m labelNodi \u001B[38;5;241m=\u001B[39m []\n\u001B[0;32m      4\u001B[0m \u001B[38;5;28;01mfor\u001B[39;00m i \u001B[38;5;129;01min\u001B[39;00m \u001B[38;5;28mrange\u001B[39m(numberNodes):\n",
      "\u001B[1;31mNameError\u001B[0m: name 'G' is not defined"
     ]
    }
   ],
   "source": [
    "numberNodes = G.number_of_nodes()\n",
    "labelNodi = []\n",
    "\n",
    "for i in range(numberNodes):\n",
    "    graph_link = graph[\"nodes\"][i][\"label\"]\n",
    "    labelNodi.append(graph_link)\n",
    "labelNodi\n"
   ],
   "metadata": {
    "collapsed": false,
    "pycharm": {
     "name": "#%%\n"
    }
   }
  },
  {
   "cell_type": "code",
   "execution_count": null,
   "outputs": [],
   "source": [
    "import networkx as nx\n",
    "import plotly.graph_objects as go\n",
    "import pandas as pd\n",
    "\n",
    "%matplotlib inline"
   ],
   "metadata": {
    "collapsed": false,
    "pycharm": {
     "name": "#%%\n"
    }
   }
  },
  {
   "cell_type": "code",
   "execution_count": 9,
   "outputs": [
    {
     "data": {
      "text/plain": "<Figure size 432x288 with 1 Axes>",
      "image/png": "[encoded data removed]"
     },
     "metadata": {},
     "output_type": "display_data"
    }
   ],
   "source": [
    "graph = None\n",
    "with open(\"graph.json\") as json_file:\n",
    "    graph = json.load(json_file)\n",
    "\n",
    "G = nx.DiGraph()\n",
    "\n",
    "G.add_nodes_from([(node['id'] for node in graph['nodes'])])\n",
    "\n",
    "G.add_edges_from([(edge['source'], edge['target'])\n",
    "                  for edge in graph['links']])\n",
    "\n",
    "pos = nx.spring_layout(G, seed = 2)\n",
    "pos = nx.kamada_kawai_layout(G, pos = pos)\n",
    "\n",
    "edge_label = nx.draw_networkx_edge_labels(G, pos = pos)\n",
    "\n",
    "\n",
    "\n",
    "nx.draw(G, pos, with_labels= True)\n",
    "plt.show()\n"
   ],
   "metadata": {
    "collapsed": false,
    "pycharm": {
     "name": "#%%\n"
    }
   }
  },
  {
   "cell_type": "code",
   "execution_count": null,
   "outputs": [],
   "source": [
    "numberNodes = G.number_of_nodes()\n",
    "gruppo_maschi = []\n",
    "gruppo_femmine= list()\n",
    "gruppo_neutro = list()\n",
    "genere = []\n",
    "\n",
    "for i in range(numberNodes):\n",
    "    graph_link = graph[\"nodes\"][i][\"gender\"]\n",
    "    genere.append(graph_link)\n",
    "\n",
    "value = 0\n",
    "for j in range(numberNodes):\n",
    "    tmp = genere[j]\n",
    "    if tmp == 1:\n",
    "        gruppo_maschi.append(value + 1)\n",
    "    elif tmp == 2:\n",
    "        gruppo_neutro.append(value + 1)\n",
    "    elif tmp == 0:\n",
    "        gruppo_femmine.append(value + 1)\n",
    "\n",
    "genere[24]\n"
   ],
   "metadata": {
    "collapsed": false,
    "pycharm": {
     "name": "#%%\n"
    }
   }
  },
  {
   "cell_type": "code",
   "execution_count": null,
   "outputs": [],
   "source": [
    "nx.draw_networkx_edge_labels()"
   ],
   "metadata": {
    "collapsed": false,
    "pycharm": {
     "name": "#%%\n"
    }
   }
  },
  {
   "cell_type": "code",
   "execution_count": null,
   "outputs": [],
   "source": [
    "graph = None\n",
    "with open(\"graph.json\") as json_file:\n",
    "    graph = json.load(json_file)\n",
    "\n",
    "lista_archi = dict()\n",
    "for archi in graph[\"links\"]:\n",
    "    lista_archi[(archi['source'])] = archi['target']\n",
    "\n",
    "len(lista_archi)"
   ],
   "metadata": {
    "collapsed": false,
    "pycharm": {
     "name": "#%%\n"
    }
   }
  },
  {
   "cell_type": "code",
   "execution_count": null,
   "outputs": [],
   "source": [
    "lista_nodi = list()\n",
    "with open('graph_nodes.csv', 'r') as read_obj:\n",
    "    csv_reader = reader(read_obj)\n",
    "    header = next(csv_reader)\n",
    "    # Check file as empty\n",
    "    if header != None:\n",
    "        # Iterate over each row after the header in the csv\n",
    "        for row in csv_reader:\n",
    "            # row variable is a list that represents a row in csv\n",
    "            lista_nodi.append(row[0:3])\n",
    "\n",
    "len(lista_nodi)"
   ],
   "metadata": {
    "collapsed": false,
    "pycharm": {
     "name": "#%%\n"
    }
   }
  },
  {
   "cell_type": "code",
   "execution_count": null,
   "outputs": [],
   "source": [
    "graph = None\n",
    "with open(\"graph.json\") as json_file:\n",
    "    graph = json.load(json_file)\n",
    "\n",
    "lista_archi = list()\n",
    "for archi in graph[\"links\"]:\n",
    "    lista_archi.append((archi[\"source\"], archi[\"target\"]))\n",
    "\n",
    "len(lista_archi)\n",
    "print(lista_archi)"
   ],
   "metadata": {
    "collapsed": false,
    "pycharm": {
     "name": "#%%\n"
    }
   }
  },
  {
   "cell_type": "markdown",
   "source": [
    "Cerco di colorare il grafo"
   ],
   "metadata": {
    "collapsed": false,
    "pycharm": {
     "name": "#%% md\n"
    }
   }
  },
  {
   "cell_type": "code",
   "execution_count": null,
   "outputs": [],
   "source": [
    "G = nx.DiGraph()\n",
    "\n",
    "Num_nodes = 43\n",
    "\n",
    "graph = None\n",
    "with open(\"graph.json\") as json_file:\n",
    "    graph = json.load(json_file)\n",
    "\n",
    "comunitaMaschi = dict()\n",
    "comunita_femmine = dict()\n",
    "comunita_neutro = dict()\n",
    "\n",
    "maschi = list()\n",
    "femmine = list()\n",
    "neutri = list()\n",
    "i = 0\n",
    "for node in graph[\"nodes\"]:\n",
    "    print(node[\"gender\"])\n",
    "    print(node[\"id\"])\n",
    "    if int(node[\"gender\"]) == 0:\n",
    "        comunita_neutro[(node[\"id\"])] = 0\n",
    "        neutri.append(int(node[\"id\"]))\n",
    "\n",
    "    if int(node[\"gender\"]) == 1:\n",
    "        comunitaMaschi[(node[\"id\"])] = node['gender']\n",
    "        maschi.append(int(node[\"id\"]))\n",
    "\n",
    "    if int(node[\"gender\"]) == 2:\n",
    "        comunita_femmine[(node[\"id\"])] = node['gender']\n",
    "        femmine.append(int(node[\"id\"]))\n",
    "\n",
    "\n",
    "\n",
    "print(len(maschi)+ len(femmine) +len(neutri)+100)\n",
    "print(len(comunita_femmine)+ len(comunita_neutro) + len(comunitaMaschi))\n"
   ],
   "metadata": {
    "collapsed": false,
    "pycharm": {
     "name": "#%%\n"
    }
   }
  },
  {
   "cell_type": "code",
   "execution_count": null,
   "outputs": [],
   "source": [],
   "metadata": {
    "collapsed": false,
    "pycharm": {
     "name": "#%%\n"
    }
   }
  }
 ],
 "metadata": {
  "kernelspec": {
   "display_name": "Python 3",
   "language": "python",
   "name": "python3"
  },
  "language_info": {
   "codemirror_mode": {
    "name": "ipython",
    "version": 2
   },
   "file_extension": ".py",
   "mimetype": "text/x-python",
   "name": "python",
   "nbconvert_exporter": "python",
   "pygments_lexer": "ipython2",
   "version": "2.7.6"
  }
 },
 "nbformat": 4,
 "nbformat_minor": 0
}